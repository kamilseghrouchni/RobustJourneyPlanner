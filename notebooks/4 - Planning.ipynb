{
 "cells": [
  {
   "cell_type": "markdown",
   "metadata": {},
   "source": [
    "# Robust journey planner\n",
    "\n",
    "- The goal of this notebook running on a local python kernel is to implement a **Robust Journey Planner**, using all of the work that precedes this notebook.\n",
    "\n",
    "- Given a desired arrival time, the route planner should compute the fastest route between *departure* and *arrival* stops within a provided **confidence tolerance** expressed as interquartiles.\n",
    "\n",
    "- Notably, our planner should be able to answer the following : \"*what route from A to B is the fastest at least Q% of the time if I want to arrive at B before instant T ?\".* \n",
    "\n",
    "- To that end, we will combine the **graph** used for the *Naive Journey Planner* in the 2nd notebook, with the **Predictive Models of the Delay** built in the 3rd notebook.\n",
    "\n",
    "- These elements will then be given as inputs to a revisited version of the **Dijkstra's algorithm**, which should assign a confidence score to a path linking a starting point and an end point."
   ]
  },
  {
   "cell_type": "markdown",
   "metadata": {},
   "source": [
    "## 1 - Data Loading & Preprocessing\n",
    "\n",
    "Making the necessary imports, fetching our precomputed data from HDFS, preprocessing it."
   ]
  },
  {
   "cell_type": "code",
   "execution_count": 1,
   "metadata": {},
   "outputs": [],
   "source": [
    "# Imports\n",
    "import os\n",
    "import functools\n",
    "import networkx as nx\n",
    "import numpy as np\n",
    "import pandas as pd\n",
    "import matplotlib.pyplot as plt\n",
    "import plotly.express as px\n",
    "import plotly.graph_objects as go\n",
    "import pickle as pkl\n",
    "import json\n",
    "import datetime\n",
    "from ipywidgets import widgets\n",
    "from IPython.display import display, HTML\n",
    "from contextlib import contextmanager\n",
    "from scipy.stats import gamma\n",
    "from hdfs3 import HDFileSystem\n",
    "\n",
    "# Configurations\n",
    "pd.set_option(\"display.max_columns\", 50)\n",
    "%matplotlib inline"
   ]
  },
  {
   "cell_type": "code",
   "execution_count": 2,
   "metadata": {},
   "outputs": [
    {
     "name": "stdout",
     "output_type": "stream",
     "text": [
      "Length of trips is 5692816\n",
      "                trip_id      src      dst departure_time arrival_time  \\\n",
      "0  1.TA.26-18-j19-1.1.H  8503064  8503065       10:41:00     10:45:00   \n",
      "1  1.TA.26-18-j19-1.1.H  8503065  8503074       10:45:00     10:46:00   \n",
      "2  1.TA.26-18-j19-1.1.H  8503074  8503068       10:46:00     10:47:00   \n",
      "3  1.TA.26-18-j19-1.1.H  8503068  8503066       10:47:00     10:48:00   \n",
      "4  1.TA.26-18-j19-1.1.H  8503066  8503075       10:48:00     10:50:00   \n",
      "\n",
      "  duration    type  \n",
      "0        4  S-Bahn  \n",
      "1        1  S-Bahn  \n",
      "2        1  S-Bahn  \n",
      "3        1  S-Bahn  \n",
      "4        2  S-Bahn  \n",
      "\n",
      "Length of graph_nodes is 1950\n"
     ]
    },
    {
     "data": {
      "text/html": [
       "<div>\n",
       "<style scoped>\n",
       "    .dataframe tbody tr th:only-of-type {\n",
       "        vertical-align: middle;\n",
       "    }\n",
       "\n",
       "    .dataframe tbody tr th {\n",
       "        vertical-align: top;\n",
       "    }\n",
       "\n",
       "    .dataframe thead th {\n",
       "        text-align: right;\n",
       "    }\n",
       "</style>\n",
       "<table border=\"1\" class=\"dataframe\">\n",
       "  <thead>\n",
       "    <tr style=\"text-align: right;\">\n",
       "      <th></th>\n",
       "      <th>id</th>\n",
       "      <th>stop_name</th>\n",
       "      <th>lat</th>\n",
       "      <th>lon</th>\n",
       "    </tr>\n",
       "  </thead>\n",
       "  <tbody>\n",
       "    <tr>\n",
       "      <th>0</th>\n",
       "      <td>8557033</td>\n",
       "      <td>Oberhasli, Industrie</td>\n",
       "      <td>47.459267</td>\n",
       "      <td>8.490014</td>\n",
       "    </tr>\n",
       "    <tr>\n",
       "      <th>1</th>\n",
       "      <td>8573711</td>\n",
       "      <td>Zürich, Sädlenweg</td>\n",
       "      <td>47.367755</td>\n",
       "      <td>8.487480</td>\n",
       "    </tr>\n",
       "    <tr>\n",
       "      <th>2</th>\n",
       "      <td>8591828</td>\n",
       "      <td>Ebmatingen, Dorf</td>\n",
       "      <td>47.351392</td>\n",
       "      <td>8.641003</td>\n",
       "    </tr>\n",
       "    <tr>\n",
       "      <th>3</th>\n",
       "      <td>8590610</td>\n",
       "      <td>Fällanden, Schützenhaus</td>\n",
       "      <td>47.368625</td>\n",
       "      <td>8.632478</td>\n",
       "    </tr>\n",
       "    <tr>\n",
       "      <th>4</th>\n",
       "      <td>8580617</td>\n",
       "      <td>Bülach, Engelwis</td>\n",
       "      <td>47.511189</td>\n",
       "      <td>8.537130</td>\n",
       "    </tr>\n",
       "  </tbody>\n",
       "</table>\n",
       "</div>"
      ],
      "text/plain": [
       "        id                stop_name        lat       lon\n",
       "0  8557033     Oberhasli, Industrie  47.459267  8.490014\n",
       "1  8573711        Zürich, Sädlenweg  47.367755  8.487480\n",
       "2  8591828         Ebmatingen, Dorf  47.351392  8.641003\n",
       "3  8590610  Fällanden, Schützenhaus  47.368625  8.632478\n",
       "4  8580617         Bülach, Engelwis  47.511189  8.537130"
      ]
     },
     "execution_count": 2,
     "metadata": {},
     "output_type": "execute_result"
    }
   ],
   "source": [
    "def load_hdfs_to_pandas(filename):\n",
    "        hdfs = HDFileSystem(host='hdfs://iccluster040.iccluster.epfl.ch', port=8020, user='ebouille') # impersonate ebouille to read the file\n",
    "        files = hdfs.glob(f'/user/vyuan/final_6/{filename}')\n",
    "        df = pd.DataFrame()\n",
    "        for file in files:\n",
    "            if not 'SUCCESS' in file:\n",
    "                with hdfs.open(file) as f:\n",
    "                    df = df.append(pd.read_parquet(f))\n",
    "        return df\n",
    "\n",
    "# Load the data\n",
    "trips = load_hdfs_to_pandas('graph_edges_2.parquet')\n",
    "graph_nodes = load_hdfs_to_pandas(\"graph_nodes.parquet\")\n",
    "\n",
    "# Displaying the data\n",
    "print(f\"Length of trips is {len(trips)}\")\n",
    "print(trips.head())\n",
    "print(f\"\\nLength of graph_nodes is {len(graph_nodes)}\")\n",
    "graph_nodes.head()"
   ]
  },
  {
   "cell_type": "code",
   "execution_count": 3,
   "metadata": {},
   "outputs": [],
   "source": [
    "# Preprocessing the data - changing its columns types, adding key & weight\n",
    "trips[\"src\"] = trips[\"src\"].astype(str)\n",
    "trips[\"dst\"] = trips[\"dst\"].astype(str)\n",
    "trips[\"type\"] = trips[\"type\"].astype(str)\n",
    "trips[\"departure_time\"] = pd.to_datetime(trips[\"departure_time\"] , format='%H:%M:%S', errors='coerce').dt.time\n",
    "trips[\"key\"] = trips[\"arrival_time\"].astype(str)\n",
    "trips[\"arrival_time\"] = pd.to_datetime(trips.arrival_time, format='%H:%M:%S', errors='coerce').dt.time\n",
    "trips[\"weight\"] = trips[\"duration\"].astype(float)"
   ]
  },
  {
   "cell_type": "markdown",
   "metadata": {},
   "source": [
    "#### Merging the data with the predictive models of the delays\n",
    "\n",
    "To match an edge with its given Gamma Distribution to model its potential delays, we must group the edges by the mean of transport and by its time. As the dataset used to build our predictive models, *istdaten*, **solely comprised data regarding Bus & Trains**, the following assumptions will be made :\n",
    "\n",
    "- *S-Bahn*, *RegioExpress*, *InterRegio*, *Standseilbahn* *Intercity* *Schiff* *Luftseilbahn* *Eurocity* will be considered to have delays that are similarly distributed as the *Zug* in the *istdaten* dataset.\n",
    "- *Bus*, *Taxi*, *Tram* will be considered to have delays that are similarly distributed as the ones from the *Bus* in the *istdaten* dataset. \n",
    "- *Transfers* are not subject to any delays, and therefore do not require any delay modeling."
   ]
  },
  {
   "cell_type": "code",
   "execution_count": 4,
   "metadata": {},
   "outputs": [],
   "source": [
    "# Load the gamma distributions modeling the delays for various groups of edges\n",
    "with open('../data/gamma_distributions.pkl', 'rb') as g_d :\n",
    "    gamma_distributions = pkl.load(g_d)\n",
    "    \n",
    "# One gamma distribution per mean of transport and peak-time/off-peak-time\n",
    "final_g_d = {}\n",
    "\n",
    "# Iterate through the parameters\n",
    "for name, g_p  in gamma_distributions.items():\n",
    "    m, d, p = name.split(', ')\n",
    "    agg = (', ').join([m, p])\n",
    "    if agg in final_g_d:\n",
    "        f_a = final_g_d[agg]['fit_alpha'] + g_p['fit_alpha']\n",
    "        f_l = final_g_d[agg]['fit_loc'] + g_p['fit_loc']\n",
    "        f_s = final_g_d[agg]['fit_scale'] + g_p['fit_scale']\n",
    "        final_g_d[agg] = {'fit_alpha': f_a, 'fit_loc': f_l, 'fit_scale': f_s}\n",
    "    else :\n",
    "        final_g_d[agg] = g_p\n",
    "\n",
    "# Take the mean over the week days\n",
    "for name in final_g_d.keys():\n",
    "    for p_name in final_g_d[name].keys():\n",
    "        final_g_d[name][p_name] /= 5\n",
    "    \n",
    "# Match each edge with its corresponding gamma distribution - Initialization\n",
    "trips['fit_alpha'] = None\n",
    "trips['fit_loc'] = None\n",
    "trips['fit_scale'] = None\n",
    "transport_mapping = {'Zug': ['S-Bahn', 'RegioExpress', 'InterRegio', 'Standseilbahn', 'Intercity', 'Schiff', 'Luftseilbahn', 'Eurocity'],\n",
    "                     'Bus': ['Taxi', 'Bus', 'Tram']}\n",
    "peak_times_bounds = [[datetime.time(7,0,0), datetime.time(8,0,0)], [datetime.time(17,0,0), datetime.time(18,0,0)]]\n",
    "\n",
    "# Compute the peak time indexes\n",
    "peak_time_idx = []\n",
    "for peak_time in peak_times_bounds :\n",
    "    peak_time_idx.append(((trips.arrival_time<peak_time[1]) & (trips.arrival_time>peak_time[0])) | \n",
    "                         ((trips.departure_time<peak_time[1]) & (trips.departure_time>peak_time[0])))\n",
    "peak_time_idx = peak_time_idx[0] | peak_time_idx[1]\n",
    "\n",
    "# Case 1 - Zug & Peak-time\n",
    "case_1_idx = peak_time_idx & trips.type.isin(transport_mapping['Zug'])\n",
    "\n",
    "# Case 2 - Zug & Off-Peak-time\n",
    "case_2_idx = -peak_time_idx & trips.type.isin(transport_mapping['Zug'])\n",
    "\n",
    "# Case 3 - Bus & Peak-time\n",
    "case_3_idx = peak_time_idx & trips.type.isin(transport_mapping['Bus'])\n",
    "\n",
    "# Case 4 - Bus & Off-Peak-time\n",
    "case_4_idx = -peak_time_idx & trips.type.isin(transport_mapping['Bus'])\n",
    "\n",
    "# Matching\n",
    "cases = ['Zug, Peak-time', 'Zug, Off-peak-time', 'Bus, Peak-time', 'Bus, Off-peak-time']\n",
    "for idx, case_idx in enumerate([case_1_idx, case_2_idx, case_3_idx, case_4_idx]) :\n",
    "    trips.loc[case_idx,'fit_alpha'] = final_g_d[cases[idx]]['fit_alpha']\n",
    "    trips.loc[case_idx,'fit_loc'] = final_g_d[cases[idx]]['fit_loc']\n",
    "    trips.loc[case_idx,'fit_scale'] = final_g_d[cases[idx]]['fit_scale']"
   ]
  },
  {
   "cell_type": "markdown",
   "metadata": {},
   "source": [
    "## 2 - Graph Creation \n",
    "\n",
    "We create the graph from the edges using networkx, and add an attribute representing the latest arrival"
   ]
  },
  {
   "cell_type": "code",
   "execution_count": 5,
   "metadata": {},
   "outputs": [],
   "source": [
    "graph_1 = nx.convert_matrix.from_pandas_edgelist(trips, \n",
    "                                                 \"src\", \n",
    "                                                 \"dst\", \n",
    "                                                 edge_key=\"key\",\n",
    "                                                 edge_attr=[\"departure_time\", \"arrival_time\", \"duration\", \"type\", \"weight\", 'trip_id', 'fit_alpha', 'fit_loc', 'fit_scale'], \n",
    "                                                 create_using=nx.MultiDiGraph())\n",
    "\n",
    "nx.set_node_attributes(graph_1, datetime.time(0, 0, 0), \"latest_arrival\")"
   ]
  },
  {
   "cell_type": "markdown",
   "metadata": {},
   "source": [
    "##### Strongly connected component\n",
    "\n",
    "As we want our journey planner to always be able to work, i.e. to reach a point B from a point A, we need the different stops to be strongly connected.\n",
    "\n",
    "Thus, we take the maximum strongly connected component, which includes Zurich train station, to restrict our graph to a strongly connected component."
   ]
  },
  {
   "cell_type": "code",
   "execution_count": 6,
   "metadata": {},
   "outputs": [
    {
     "name": "stdout",
     "output_type": "stream",
     "text": [
      "Our strongly connected component has Zurich Train station True\n"
     ]
    }
   ],
   "source": [
    "strongly_connected_components = max(nx.strongly_connected_components(graph_1), key=len)\n",
    "hbb_in_components = '8503000' in strongly_connected_components\n",
    "print(f\"Our strongly connected component has Zurich Train station {hbb_in_components}\")\n",
    "graph_nodes = graph_nodes[graph_nodes[\"id\"].isin(strongly_connected_components)]\n",
    "graph_strong_connected = graph_1.subgraph(strongly_connected_components)"
   ]
  },
  {
   "cell_type": "markdown",
   "metadata": {},
   "source": [
    "## 3 - Robust Journey Planner"
   ]
  },
  {
   "cell_type": "markdown",
   "metadata": {},
   "source": [
    "Our approach to implement the Robust Journey Planner is the following :\n",
    "\n",
    "- Store all the incoming edges for a reached node : we must keep all the edges since we will compute a probability of success of each of the path, and make decisions based on this latter. As we are keeping most of the edges, the search grows exponentially in space and time, and thus requires some pruning strategy.\n",
    "\n",
    "- Pruning strategies : \n",
    "    1. Prune any path that changes direction twice (gets away from the destination node twice)\n",
    "    2. Prune if two consecutive transfers\n",
    "    3. Prune if the probability of the path is smaller than the confidence threshold\n",
    "    4. Only keep the *top k* paths that have the k smallest weights as the paths in the graph to be developed.\n",
    "    \n",
    "The output of the algorithm should be a list of routes between A and B and their confidence levels. The routes will be sorted from latest (fastest) to earliest (longest) departure time at A, they must all arrive at B before T with a confidence level greater than or equal to Q."
   ]
  },
  {
   "cell_type": "markdown",
   "metadata": {},
   "source": [
    "##### Teaser\n",
    "As a teaser to what follow, let us compute the probability that a mean of transport is subject to a delay that is smaller than 5 minutes, on average, using our results from the 3rd Notebook."
   ]
  },
  {
   "cell_type": "code",
   "execution_count": 7,
   "metadata": {},
   "outputs": [
    {
     "data": {
      "text/plain": [
       "0.9785042082486219"
      ]
     },
     "execution_count": 7,
     "metadata": {},
     "output_type": "execute_result"
    }
   ],
   "source": [
    "# Computing probabilities\n",
    "pd.Series([gamma.cdf(300, a = gamma_params['fit_alpha'], loc = gamma_params['fit_loc'], scale = gamma_params['fit_scale']) \n",
    "           for _, gamma_params in gamma_distributions.items()]).mean()"
   ]
  },
  {
   "cell_type": "markdown",
   "metadata": {},
   "source": [
    "Judging from this result, we can safely assume for the most part that we can take any connection whose departure is scheduled 5 minutes after the arrival."
   ]
  },
  {
   "cell_type": "markdown",
   "metadata": {},
   "source": [
    "### Routing"
   ]
  },
  {
   "cell_type": "markdown",
   "metadata": {},
   "source": [
    "All the functions required to run our robust planner are contained in helpers_robust.py."
   ]
  },
  {
   "cell_type": "code",
   "execution_count": 8,
   "metadata": {},
   "outputs": [],
   "source": [
    "from helpers_robust import *\n",
    "routes, probas = final_journey(graph = graph_1.copy(), \n",
    "                               nodes = graph_nodes, \n",
    "                               start = 'Oberhasli, Industrie', #8557033\n",
    "                               stop = 'Zürich, Sädlenweg', #8573711\n",
    "                               time = string_datetime('15:00:00'), \n",
    "                               confidence_thres = 0.95, \n",
    "                               number_of_routes = 5, \n",
    "                               top_k = 30)"
   ]
  },
  {
   "cell_type": "markdown",
   "metadata": {},
   "source": [
    "To go from Oberhasli, Industrie, to Zürich, Sädlenweg, with a confidence threshold of 0.9, the top 5 routes along with their probabilities can be computed as above. As an example, the first route is shown below."
   ]
  },
  {
   "cell_type": "code",
   "execution_count": 9,
   "metadata": {},
   "outputs": [
    {
     "name": "stdout",
     "output_type": "stream",
     "text": [
      "Probability of route =  0.999964669437943\n"
     ]
    }
   ],
   "source": [
    "print('Probability of route = ', probas[0])"
   ]
  },
  {
   "cell_type": "code",
   "execution_count": 10,
   "metadata": {},
   "outputs": [
    {
     "data": {
      "text/html": [
       "<div>\n",
       "<style scoped>\n",
       "    .dataframe tbody tr th:only-of-type {\n",
       "        vertical-align: middle;\n",
       "    }\n",
       "\n",
       "    .dataframe tbody tr th {\n",
       "        vertical-align: top;\n",
       "    }\n",
       "\n",
       "    .dataframe thead th {\n",
       "        text-align: right;\n",
       "    }\n",
       "</style>\n",
       "<table border=\"1\" class=\"dataframe\">\n",
       "  <thead>\n",
       "    <tr style=\"text-align: right;\">\n",
       "      <th></th>\n",
       "      <th>stop</th>\n",
       "      <th>lat</th>\n",
       "      <th>lon</th>\n",
       "      <th>mean_of_transport</th>\n",
       "      <th>departures</th>\n",
       "      <th>arrivals</th>\n",
       "    </tr>\n",
       "  </thead>\n",
       "  <tbody>\n",
       "    <tr>\n",
       "      <th>0</th>\n",
       "      <td>Oberhasli, Industrie</td>\n",
       "      <td>47.4592670391304</td>\n",
       "      <td>8.49001368400678</td>\n",
       "      <td>None</td>\n",
       "      <td>12:32:00</td>\n",
       "      <td>None</td>\n",
       "    </tr>\n",
       "    <tr>\n",
       "      <th>1</th>\n",
       "      <td>Niederhasli, Bahnhof</td>\n",
       "      <td>47.4782740863515</td>\n",
       "      <td>8.48854044694062</td>\n",
       "      <td>Taxi</td>\n",
       "      <td>13:08:00</td>\n",
       "      <td>12:38:00</td>\n",
       "    </tr>\n",
       "    <tr>\n",
       "      <th>2</th>\n",
       "      <td>Niederhasli</td>\n",
       "      <td>47.4783894436049</td>\n",
       "      <td>8.48869316053894</td>\n",
       "      <td>transfer</td>\n",
       "      <td>13:16:00</td>\n",
       "      <td>13:10:00</td>\n",
       "    </tr>\n",
       "    <tr>\n",
       "      <th>3</th>\n",
       "      <td>Oberglatt</td>\n",
       "      <td>47.4702652453062</td>\n",
       "      <td>8.51060307032167</td>\n",
       "      <td>S-Bahn</td>\n",
       "      <td>13:20:00</td>\n",
       "      <td>13:20:00</td>\n",
       "    </tr>\n",
       "    <tr>\n",
       "      <th>4</th>\n",
       "      <td>Rümlang</td>\n",
       "      <td>47.4540677487502</td>\n",
       "      <td>8.5327465420783</td>\n",
       "      <td>S-Bahn</td>\n",
       "      <td>13:23:00</td>\n",
       "      <td>13:22:00</td>\n",
       "    </tr>\n",
       "    <tr>\n",
       "      <th>5</th>\n",
       "      <td>Glattbrugg</td>\n",
       "      <td>47.4310109642626</td>\n",
       "      <td>8.55883361793276</td>\n",
       "      <td>S-Bahn</td>\n",
       "      <td>13:27:00</td>\n",
       "      <td>13:26:00</td>\n",
       "    </tr>\n",
       "    <tr>\n",
       "      <th>6</th>\n",
       "      <td>Zürich Oerlikon</td>\n",
       "      <td>47.4118348510255</td>\n",
       "      <td>8.54411023042399</td>\n",
       "      <td>S-Bahn</td>\n",
       "      <td>13:34:00</td>\n",
       "      <td>13:29:00</td>\n",
       "    </tr>\n",
       "    <tr>\n",
       "      <th>7</th>\n",
       "      <td>Zürich HB</td>\n",
       "      <td>47.379271132311</td>\n",
       "      <td>8.54019357578468</td>\n",
       "      <td>S-Bahn</td>\n",
       "      <td>13:47:00</td>\n",
       "      <td>13:39:00</td>\n",
       "    </tr>\n",
       "    <tr>\n",
       "      <th>8</th>\n",
       "      <td>Zürich Wiedikon</td>\n",
       "      <td>47.3715939887424</td>\n",
       "      <td>8.52345796203921</td>\n",
       "      <td>S-Bahn</td>\n",
       "      <td>14:04:00</td>\n",
       "      <td>13:49:00</td>\n",
       "    </tr>\n",
       "    <tr>\n",
       "      <th>9</th>\n",
       "      <td>Zürich, Schmiede Wiedikon</td>\n",
       "      <td>47.3701521184186</td>\n",
       "      <td>8.51926282966178</td>\n",
       "      <td>transfer</td>\n",
       "      <td>14:13:00</td>\n",
       "      <td>14:13:00</td>\n",
       "    </tr>\n",
       "    <tr>\n",
       "      <th>10</th>\n",
       "      <td>Zürich, Goldbrunnenplatz</td>\n",
       "      <td>47.3702920484894</td>\n",
       "      <td>8.51391785372053</td>\n",
       "      <td>Bus</td>\n",
       "      <td>14:51:00</td>\n",
       "      <td>14:14:00</td>\n",
       "    </tr>\n",
       "    <tr>\n",
       "      <th>11</th>\n",
       "      <td>Zürich, Schaufelbergerstrasse</td>\n",
       "      <td>47.3689048992124</td>\n",
       "      <td>8.50184449630028</td>\n",
       "      <td>Bus</td>\n",
       "      <td>14:54:00</td>\n",
       "      <td>14:54:00</td>\n",
       "    </tr>\n",
       "    <tr>\n",
       "      <th>12</th>\n",
       "      <td>Zürich, Triemli</td>\n",
       "      <td>47.3681504693771</td>\n",
       "      <td>8.49537662625372</td>\n",
       "      <td>Bus</td>\n",
       "      <td>14:56:00</td>\n",
       "      <td>14:56:00</td>\n",
       "    </tr>\n",
       "    <tr>\n",
       "      <th>13</th>\n",
       "      <td>Zürich, Sädlenweg</td>\n",
       "      <td>47.3677549978138</td>\n",
       "      <td>8.48748043490521</td>\n",
       "      <td>Bus</td>\n",
       "      <td>None</td>\n",
       "      <td>14:58:00</td>\n",
       "    </tr>\n",
       "  </tbody>\n",
       "</table>\n",
       "</div>"
      ],
      "text/plain": [
       "                             stop               lat               lon  \\\n",
       "0            Oberhasli, Industrie  47.4592670391304  8.49001368400678   \n",
       "1            Niederhasli, Bahnhof  47.4782740863515  8.48854044694062   \n",
       "2                     Niederhasli  47.4783894436049  8.48869316053894   \n",
       "3                       Oberglatt  47.4702652453062  8.51060307032167   \n",
       "4                         Rümlang  47.4540677487502   8.5327465420783   \n",
       "5                      Glattbrugg  47.4310109642626  8.55883361793276   \n",
       "6                 Zürich Oerlikon  47.4118348510255  8.54411023042399   \n",
       "7                       Zürich HB   47.379271132311  8.54019357578468   \n",
       "8                 Zürich Wiedikon  47.3715939887424  8.52345796203921   \n",
       "9       Zürich, Schmiede Wiedikon  47.3701521184186  8.51926282966178   \n",
       "10       Zürich, Goldbrunnenplatz  47.3702920484894  8.51391785372053   \n",
       "11  Zürich, Schaufelbergerstrasse  47.3689048992124  8.50184449630028   \n",
       "12                Zürich, Triemli  47.3681504693771  8.49537662625372   \n",
       "13              Zürich, Sädlenweg  47.3677549978138  8.48748043490521   \n",
       "\n",
       "   mean_of_transport departures  arrivals  \n",
       "0               None   12:32:00      None  \n",
       "1               Taxi   13:08:00  12:38:00  \n",
       "2           transfer   13:16:00  13:10:00  \n",
       "3             S-Bahn   13:20:00  13:20:00  \n",
       "4             S-Bahn   13:23:00  13:22:00  \n",
       "5             S-Bahn   13:27:00  13:26:00  \n",
       "6             S-Bahn   13:34:00  13:29:00  \n",
       "7             S-Bahn   13:47:00  13:39:00  \n",
       "8             S-Bahn   14:04:00  13:49:00  \n",
       "9           transfer   14:13:00  14:13:00  \n",
       "10               Bus   14:51:00  14:14:00  \n",
       "11               Bus   14:54:00  14:54:00  \n",
       "12               Bus   14:56:00  14:56:00  \n",
       "13               Bus       None  14:58:00  "
      ]
     },
     "execution_count": 10,
     "metadata": {},
     "output_type": "execute_result"
    }
   ],
   "source": [
    "routes[0]"
   ]
  },
  {
   "cell_type": "markdown",
   "metadata": {},
   "source": [
    "### Testing & Validation of the Robust Planner"
   ]
  },
  {
   "cell_type": "markdown",
   "metadata": {},
   "source": [
    "Let us check some visualisations for the same route, using our Naive planner against our Robust planner."
   ]
  },
  {
   "cell_type": "code",
   "execution_count": 11,
   "metadata": {},
   "outputs": [],
   "source": [
    "from helpers_visualisation import *\n",
    "from helpers_visualisation_robust import *"
   ]
  },
  {
   "cell_type": "code",
   "execution_count": 14,
   "metadata": {},
   "outputs": [
    {
     "data": {
      "application/vnd.jupyter.widget-view+json": {
       "model_id": "4e86b12fa50c41938ead891754bfe0af",
       "version_major": 2,
       "version_minor": 0
      },
      "text/plain": [
       "Tab(children=(VBox(children=(Accordion(children=(Dropdown(description='Start stations : ', index=552, options=…"
      ]
     },
     "metadata": {},
     "output_type": "display_data"
    }
   ],
   "source": [
    "plot_path_robust(graph_nodes, graph_1) "
   ]
  },
  {
   "cell_type": "code",
   "execution_count": null,
   "metadata": {},
   "outputs": [],
   "source": []
  }
 ],
 "metadata": {
  "kernelspec": {
   "display_name": "Python 3",
   "language": "python",
   "name": "python3"
  },
  "language_info": {
   "codemirror_mode": {
    "name": "ipython",
    "version": 3
   },
   "file_extension": ".py",
   "mimetype": "text/x-python",
   "name": "python",
   "nbconvert_exporter": "python",
   "pygments_lexer": "ipython3",
   "version": "3.7.6"
  }
 },
 "nbformat": 4,
 "nbformat_minor": 4
}
