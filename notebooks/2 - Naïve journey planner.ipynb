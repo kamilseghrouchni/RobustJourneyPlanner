{
 "cells": [
  {
   "cell_type": "markdown",
   "metadata": {},
   "source": [
    "# Naïve journey planner\n",
    "\n",
    "The goal of this notebook running on a local python kernel is to have a naive implementation of a journey planner.\n",
    "This Naïve journery planner aims at assessing the validity of our transport model at first as well as provide ground predictions for our model. \n",
    "In this naïve implementation, our model will consider that public transports always arrive on time, and will try to find a way from point A to reach point B before time T."
   ]
  },
  {
   "cell_type": "code",
   "execution_count": 1,
   "metadata": {},
   "outputs": [],
   "source": [
    "# general imports \n",
    "import datetime\n",
    "import pandas as pd\n",
    "from heapq import heappush, heappop\n",
    "from collections import deque\n",
    "\n",
    "pd.set_option(\"display.max_columns\", 50)\n",
    "import os\n",
    "import functools\n",
    "import numpy as np\n",
    "\n",
    "# for loading the data from spark cluster to local \n",
    "from hdfs3 import HDFileSystem\n",
    "\n",
    "# Import planner implementation\n",
    "from helpers_naive import *\n",
    "\n",
    "# for transport modeling \n",
    "import networkx as nx\n",
    "\n",
    "# for visualization \n",
    "from helpers_visualisation import *"
   ]
  },
  {
   "cell_type": "markdown",
   "metadata": {},
   "source": [
    "## Data fetching\n",
    "\n",
    "First we import the necessary data from the HDFS to model our data "
   ]
  },
  {
   "cell_type": "code",
   "execution_count": 2,
   "metadata": {},
   "outputs": [],
   "source": [
    "\"\"\"\n",
    "Loads data from the HDFS to retreive pyspark data wrangling results \n",
    "\"\"\"\n",
    "def load_hdfs_to_pandas(filename):\n",
    "        hdfs = HDFileSystem(host='hdfs://iccluster040.iccluster.epfl.ch', port=8020, user='ebouille') # impersonate ebouille to read the file\n",
    "        files = hdfs.glob(f'/user/vyuan/final_3/{filename}')\n",
    "        df = pd.DataFrame()\n",
    "        for file in files:\n",
    "            if not 'SUCCESS' in file:\n",
    "                with hdfs.open(file) as f:\n",
    "                    df = df.append(pd.read_parquet(f))\n",
    "        \n",
    "        \n",
    "        return df"
   ]
  },
  {
   "cell_type": "code",
   "execution_count": 3,
   "metadata": {},
   "outputs": [
    {
     "name": "stdout",
     "output_type": "stream",
     "text": [
      "Length of trips is 5192829\n",
      "       src      dst departure_time arrival_time duration     type\n",
      "0  8503064  8503065       10:41:00     10:45:00        4  journey\n",
      "1  8503065  8503074       10:45:00     10:46:00        1  journey\n",
      "2  8503074  8503068       10:46:00     10:47:00        1  journey\n",
      "3  8503068  8503066       10:47:00     10:48:00        1  journey\n",
      "4  8503066  8503075       10:48:00     10:50:00        2  journey\n"
     ]
    }
   ],
   "source": [
    "# get station nodes \n",
    "graph_nodes = load_hdfs_to_pandas('graph_nodes.parquet')\n",
    "\n",
    "#retreive all connections \n",
    "trips = load_hdfs_to_pandas(\"graph_edges_2.parquet\")\n",
    "\n",
    "#check  the sizes to make sure appropriate data\n",
    "print(f\"Length of trips is {len(trips)}\")\n",
    "print(trips.head())\n"
   ]
  },
  {
   "cell_type": "code",
   "execution_count": 4,
   "metadata": {},
   "outputs": [
    {
     "data": {
      "text/html": [
       "<div>\n",
       "<style scoped>\n",
       "    .dataframe tbody tr th:only-of-type {\n",
       "        vertical-align: middle;\n",
       "    }\n",
       "\n",
       "    .dataframe tbody tr th {\n",
       "        vertical-align: top;\n",
       "    }\n",
       "\n",
       "    .dataframe thead th {\n",
       "        text-align: right;\n",
       "    }\n",
       "</style>\n",
       "<table border=\"1\" class=\"dataframe\">\n",
       "  <thead>\n",
       "    <tr style=\"text-align: right;\">\n",
       "      <th></th>\n",
       "      <th>src</th>\n",
       "      <th>dst</th>\n",
       "      <th>departure_time</th>\n",
       "      <th>arrival_time</th>\n",
       "      <th>duration</th>\n",
       "      <th>type</th>\n",
       "      <th>key</th>\n",
       "      <th>weight</th>\n",
       "    </tr>\n",
       "  </thead>\n",
       "  <tbody>\n",
       "    <tr>\n",
       "      <th>0</th>\n",
       "      <td>8503064</td>\n",
       "      <td>8503065</td>\n",
       "      <td>10:41:00</td>\n",
       "      <td>10:45:00</td>\n",
       "      <td>4</td>\n",
       "      <td>journey</td>\n",
       "      <td>10:45:00</td>\n",
       "      <td>4.0</td>\n",
       "    </tr>\n",
       "    <tr>\n",
       "      <th>1</th>\n",
       "      <td>8503065</td>\n",
       "      <td>8503074</td>\n",
       "      <td>10:45:00</td>\n",
       "      <td>10:46:00</td>\n",
       "      <td>1</td>\n",
       "      <td>journey</td>\n",
       "      <td>10:46:00</td>\n",
       "      <td>1.0</td>\n",
       "    </tr>\n",
       "    <tr>\n",
       "      <th>2</th>\n",
       "      <td>8503074</td>\n",
       "      <td>8503068</td>\n",
       "      <td>10:46:00</td>\n",
       "      <td>10:47:00</td>\n",
       "      <td>1</td>\n",
       "      <td>journey</td>\n",
       "      <td>10:47:00</td>\n",
       "      <td>1.0</td>\n",
       "    </tr>\n",
       "    <tr>\n",
       "      <th>3</th>\n",
       "      <td>8503068</td>\n",
       "      <td>8503066</td>\n",
       "      <td>10:47:00</td>\n",
       "      <td>10:48:00</td>\n",
       "      <td>1</td>\n",
       "      <td>journey</td>\n",
       "      <td>10:48:00</td>\n",
       "      <td>1.0</td>\n",
       "    </tr>\n",
       "    <tr>\n",
       "      <th>4</th>\n",
       "      <td>8503066</td>\n",
       "      <td>8503075</td>\n",
       "      <td>10:48:00</td>\n",
       "      <td>10:50:00</td>\n",
       "      <td>2</td>\n",
       "      <td>journey</td>\n",
       "      <td>10:50:00</td>\n",
       "      <td>2.0</td>\n",
       "    </tr>\n",
       "  </tbody>\n",
       "</table>\n",
       "</div>"
      ],
      "text/plain": [
       "       src      dst departure_time arrival_time duration     type       key  \\\n",
       "0  8503064  8503065       10:41:00     10:45:00        4  journey  10:45:00   \n",
       "1  8503065  8503074       10:45:00     10:46:00        1  journey  10:46:00   \n",
       "2  8503074  8503068       10:46:00     10:47:00        1  journey  10:47:00   \n",
       "3  8503068  8503066       10:47:00     10:48:00        1  journey  10:48:00   \n",
       "4  8503066  8503075       10:48:00     10:50:00        2  journey  10:50:00   \n",
       "\n",
       "   weight  \n",
       "0     4.0  \n",
       "1     1.0  \n",
       "2     1.0  \n",
       "3     1.0  \n",
       "4     2.0  "
      ]
     },
     "execution_count": 4,
     "metadata": {},
     "output_type": "execute_result"
    }
   ],
   "source": [
    "\"\"\" \n",
    "Data formating for graph modeling\n",
    "Cast appropriate types of arrival and departure types \n",
    "Declare weight and key \n",
    "\"\"\"\n",
    "trips[\"departure_time\"] = pd.to_datetime(trips[\"departure_time\"] , format='%H:%M:%S', errors='coerce').dt.time\n",
    "trips[\"key\"] = trips[\"arrival_time\"].astype(str)\n",
    "trips[\"arrival_time\"] = pd.to_datetime(trips.arrival_time, format='%H:%M:%S', errors='coerce').dt.time\n",
    "trips[\"weight\"] = trips[\"duration\"].astype(float)\n",
    "\n",
    "trips.head()"
   ]
  },
  {
   "cell_type": "markdown",
   "metadata": {},
   "source": [
    "## Graph Creation \n",
    "\n",
    "We create the Directed Graph from the edges using networkx, and add an attribute representing the latest arrival for each nodes (stations). \n",
    "Each station corresponds to a node and every connection an edge. Edges are thus described by  : \n",
    "* Departure time from source \n",
    "* Arrival time at destination \n",
    "* Type of trip (weither journey or conenction) \n",
    "* Weight corresponding to travel time\n",
    "* Key (unique identifier of edge)\n",
    "\n",
    "The key attribute alows us to directly instantiate the edge using its arrival time. Such key is unique as the edge also corresponds to given pair of nodes\n"
   ]
  },
  {
   "cell_type": "code",
   "execution_count": 5,
   "metadata": {},
   "outputs": [],
   "source": [
    "# computing transport model\n",
    "master_graph = nx.convert_matrix.from_pandas_edgelist(trips, \n",
    "                                                 \"src\", \n",
    "                                                 \"dst\", \n",
    "                                                 edge_key=\"key\",\n",
    "                                                 edge_attr=[\"departure_time\", \"arrival_time\", \"type\",\"weight\"], \n",
    "                                                 create_using=nx.MultiDiGraph())\n",
    "\n",
    "# set the latest arrival time for all nodes at zero \n",
    "nx.set_node_attributes(master_graph, datetime.time(0, 0, 0), \"latest_arrival\")"
   ]
  },
  {
   "cell_type": "markdown",
   "metadata": {},
   "source": [
    "## Strongly connected component\n",
    "\n",
    "As we want our journey planner to always be able to work, i.e. to reach a point B from a point A, we need the different stops to be strongly connected.\n",
    "\n",
    "Thus, we take the maximum strongly connected component, which includes Zurich train station, to restrict our graph to a strongly connected component."
   ]
  },
  {
   "cell_type": "code",
   "execution_count": 6,
   "metadata": {},
   "outputs": [
    {
     "name": "stdout",
     "output_type": "stream",
     "text": [
      "Our strongly connected component has Zurich Train station True\n"
     ]
    }
   ],
   "source": [
    "strongly_connected_components = max(nx.strongly_connected_components(master_graph), key=len)\n",
    "\n",
    "hbb_in_components = '8503000' in strongly_connected_components\n",
    "print(f\"Our strongly connected component has Zurich Train station {hbb_in_components}\")\n",
    "\n",
    "graph_nodes = graph_nodes[graph_nodes[\"id\"].isin(strongly_connected_components)]\n",
    "graph_strong_connected = master_graph.subgraph(strongly_connected_components)"
   ]
  },
  {
   "cell_type": "markdown",
   "metadata": {},
   "source": [
    "## Naïve journey planner \n",
    "\n",
    "The way we proceeded to levrage our transport model was to use an adapted version of Djikstra's Algorithm to find the shortest path taking into acount the delay between arrival time at a station and next departure time. Yet as our data was made to support all possible trips considering transfers as well, it would have been cumbersome and clumzzy to use it directly on the it. That it why we adopted the following startegy : \n",
    "\n",
    "**Backward bfs:** First, we run a Backward bfs starting from target station given a specified arrival time. The idea here was to keep only one edge between to nodes by propagating the latest arrival time to upward nodes. Iteratively, we discarded any nodes having an arrival time being after the latest of the destination node. Yet, one hick up with thi approach is that some edges having departure times from source node earlier in time that it departure time remain. That it is why we had also to perform a forward bfs.\n",
    "\n",
    "**Dijkstra:** Finally, one the transport model sorted, we implemented a slightly different version of Djikstra algorithm to acount for waiting time. The idea was to adapt the cost function of a given time with such contribution. That way, we were able to output the fastet route from point A to point B given time T. "
   ]
  },
  {
   "cell_type": "markdown",
   "metadata": {},
   "source": [
    "## Visualization of your trip \n",
    "\n",
    "In order to get a better idea of the actual performance of our model in terms of accuracy and consistency, we decided to build an interactive tool for visualization. This interactive visualization allows to pick departure, arrival stations across all possible ones (allowing for a fully connected transport model) and desired arrival time. The visualization then computes the fastes route and displays the path along the different sations along with the calculated duration in minutes and seconds. It is also to have a glance at the journey details clicking on the toggle \"Your trip\", to see what when user can leave the starting stations as well as the detailed departures and arrivals for each station. Status of the back-end computations are also shown for the user to know what is going one. \n"
   ]
  },
  {
   "cell_type": "code",
   "execution_count": 9,
   "metadata": {},
   "outputs": [
    {
     "data": {
      "application/vnd.jupyter.widget-view+json": {
       "model_id": "018521c3358147a79c28dcf3e00c06b8",
       "version_major": 2,
       "version_minor": 0
      },
      "text/plain": [
       "Tab(children=(VBox(children=(Accordion(children=(Dropdown(description='Start stations : ', index=552, options=…"
      ]
     },
     "metadata": {},
     "output_type": "display_data"
    }
   ],
   "source": [
    "# declare visualizer \n",
    "plot_path(graph_nodes, graph_strong_connected)"
   ]
  },
  {
   "cell_type": "code",
   "execution_count": null,
   "metadata": {},
   "outputs": [],
   "source": []
  }
 ],
 "metadata": {
  "kernelspec": {
   "display_name": "Python 3",
   "language": "python",
   "name": "python3"
  },
  "language_info": {
   "codemirror_mode": {
    "name": "ipython",
    "version": 3
   },
   "file_extension": ".py",
   "mimetype": "text/x-python",
   "name": "python",
   "nbconvert_exporter": "python",
   "pygments_lexer": "ipython3",
   "version": "3.7.6"
  }
 },
 "nbformat": 4,
 "nbformat_minor": 4
}
