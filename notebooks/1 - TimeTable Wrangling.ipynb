{
 "cells": [
  {
   "cell_type": "markdown",
   "metadata": {},
   "source": [
    "# Timetable data wrangling\n",
    "\n",
    "In this pyspark notebook, we will wrangle timetable data to process it into the desired data format.\n",
    "\n",
    "Indeed, we want to modelize our data through a graph, where each node will represent a station with the 15 km boundaries of Zurich HB. The edges will represent any trips from one stop to another.\n",
    "\n",
    "Thus, we want to convert the timetable data to this graph representation. The end goal of this pyspark kernel is to have 3 tables:\n",
    "* *Graph nodes*: that will represent the node of our graph (stop_id, stop_name, stop_lat, stop_lon)\n",
    "* *Graph edges 1*, that will represent one possible set of edges for the graph. This one will include all possible trips from one stop to anothers. Thus, it will includes the public transportation trips, but also the walking trips for all stops. On this graph edges, we will have only one row for a walking trip, without putting any departure time and arrival time.\n",
    "* *Graph Edges 2*, that will represent another possible set of edges for the graph. The public transportation trips which are the same as *Graph Edges 1*. The key difference is that for any arrival at a stop with a public transportation, we will add all of the possible walking trips from this stop. The departure time of these walking trips will be the same as the arrival time to the stop.\n",
    "\n",
    "We will then write in hdfs the wrangled datasets"
   ]
  },
  {
   "cell_type": "markdown",
   "metadata": {},
   "source": [
    "## Creating spark application and libraries import"
   ]
  },
  {
   "cell_type": "code",
   "execution_count": 1,
   "metadata": {},
   "outputs": [
    {
     "data": {
      "text/html": [
       "Current session configs: <tt>{'name': 'vyuan-namespace-project', 'executorMemory': '4G', 'executorCores': 4, 'numExecutors': 10, 'conf': {'spark.jars.repositories': 'https://repos.spark-packages.org', 'spark.jars.packages': 'graphframes:graphframes:0.7.0-spark2.3-s_2.11'}, 'kind': 'pyspark'}</tt><br>"
      ],
      "text/plain": [
       "<IPython.core.display.HTML object>"
      ]
     },
     "metadata": {},
     "output_type": "display_data"
    },
    {
     "data": {
      "text/html": [
       "<table>\n",
       "<tr><th>ID</th><th>YARN Application ID</th><th>Kind</th><th>State</th><th>Spark UI</th><th>Driver log</th><th>User</th><th>Current session?</th></tr><tr><td>7231</td><td>application_1618324153128_6962</td><td>pyspark</td><td>idle</td><td><a target=\"_blank\" href=\"http://iccluster040.iccluster.epfl.ch:8088/proxy/application_1618324153128_6962/\">Link</a></td><td><a target=\"_blank\" href=\"http://iccluster066.iccluster.epfl.ch:8042/node/containerlogs/container_e01_1618324153128_6962_01_000001/ebouille\">Link</a></td><td>None</td><td></td></tr></table>"
      ],
      "text/plain": [
       "<IPython.core.display.HTML object>"
      ]
     },
     "metadata": {},
     "output_type": "display_data"
    }
   ],
   "source": [
    "%%local\n",
    "import os\n",
    "import json\n",
    "from IPython import get_ipython\n",
    "\n",
    "username = os.environ['JUPYTERHUB_USER']\n",
    "namespace = os.environ['CI_NAMESPACE']\n",
    "project = os.environ['CI_PROJECT']\n",
    "\n",
    "configuration = dict(\n",
    "    name = f\"{username}-namespace-project\",\n",
    "    executorMemory = \"4G\",\n",
    "    executorCores = 4,\n",
    "    numExecutors = 10,\n",
    "    conf = {\n",
    "        # \"spark.pyspark.python\": \"/opt/anaconda3/bin/python3\", # Use python3\n",
    "        \"spark.jars.repositories\": \"https://repos.spark-packages.org\",\n",
    "        \"spark.jars.packages\": \"graphframes:graphframes:0.7.0-spark2.3-s_2.11\"\n",
    "    }\n",
    ")\n",
    "\n",
    "\n",
    "get_ipython().run_cell_magic('configure', line=\"-f\", \n",
    "                             cell=json.dumps(configuration))"
   ]
  },
  {
   "cell_type": "code",
   "execution_count": 2,
   "metadata": {},
   "outputs": [
    {
     "name": "stdout",
     "output_type": "stream",
     "text": [
      "Starting Spark application\n"
     ]
    },
    {
     "data": {
      "text/html": [
       "<table>\n",
       "<tr><th>ID</th><th>YARN Application ID</th><th>Kind</th><th>State</th><th>Spark UI</th><th>Driver log</th><th>User</th><th>Current session?</th></tr><tr><td>7232</td><td>application_1618324153128_6963</td><td>pyspark</td><td>idle</td><td><a target=\"_blank\" href=\"http://iccluster040.iccluster.epfl.ch:8088/proxy/application_1618324153128_6963/\">Link</a></td><td><a target=\"_blank\" href=\"http://iccluster078.iccluster.epfl.ch:8042/node/containerlogs/container_e01_1618324153128_6963_01_000001/ebouille\">Link</a></td><td>None</td><td>✔</td></tr></table>"
      ],
      "text/plain": [
       "<IPython.core.display.HTML object>"
      ]
     },
     "metadata": {},
     "output_type": "display_data"
    },
    {
     "data": {
      "application/vnd.jupyter.widget-view+json": {
       "model_id": "",
       "version_major": 2,
       "version_minor": 0
      },
      "text/plain": [
       "FloatProgress(value=0.0, bar_style='info', description='Progress:', layout=Layout(height='25px', width='50%'),…"
      ]
     },
     "metadata": {},
     "output_type": "display_data"
    },
    {
     "name": "stdout",
     "output_type": "stream",
     "text": [
      "SparkSession available as 'spark'.\n"
     ]
    },
    {
     "data": {
      "application/vnd.jupyter.widget-view+json": {
       "model_id": "",
       "version_major": 2,
       "version_minor": 0
      },
      "text/plain": [
       "FloatProgress(value=0.0, bar_style='info', description='Progress:', layout=Layout(height='25px', width='50%'),…"
      ]
     },
     "metadata": {},
     "output_type": "display_data"
    },
    {
     "name": "stdout",
     "output_type": "stream",
     "text": [
      "<pyspark.sql.session.SparkSession object at 0x7f45ab031810>"
     ]
    }
   ],
   "source": [
    "spark"
   ]
  },
  {
   "cell_type": "code",
   "execution_count": 3,
   "metadata": {},
   "outputs": [
    {
     "data": {
      "application/vnd.jupyter.widget-view+json": {
       "model_id": "",
       "version_major": 2,
       "version_minor": 0
      },
      "text/plain": [
       "FloatProgress(value=0.0, bar_style='info', description='Progress:', layout=Layout(height='25px', width='50%'),…"
      ]
     },
     "metadata": {},
     "output_type": "display_data"
    }
   ],
   "source": [
    "sc.addPyFile('graphframes_graphframes-0.7.0-spark2.3-s_2.11.jar')"
   ]
  },
  {
   "cell_type": "code",
   "execution_count": 4,
   "metadata": {},
   "outputs": [
    {
     "data": {
      "application/vnd.jupyter.widget-view+json": {
       "model_id": "",
       "version_major": 2,
       "version_minor": 0
      },
      "text/plain": [
       "FloatProgress(value=0.0, bar_style='info', description='Progress:', layout=Layout(height='25px', width='50%'),…"
      ]
     },
     "metadata": {},
     "output_type": "display_data"
    }
   ],
   "source": [
    "import pandas\n",
    "import datetime\n",
    "import pyspark.sql.functions as F\n",
    "\n",
    "from graphframes import *\n",
    "from math import radians, cos, sin, asin, sqrt, floor\n",
    "from pyspark.sql import Window\n",
    "from pyspark.sql.types import StringType"
   ]
  },
  {
   "cell_type": "markdown",
   "metadata": {},
   "source": [
    "## Data loading and exploration"
   ]
  },
  {
   "cell_type": "code",
   "execution_count": 5,
   "metadata": {},
   "outputs": [
    {
     "data": {
      "application/vnd.jupyter.widget-view+json": {
       "model_id": "",
       "version_major": 2,
       "version_minor": 0
      },
      "text/plain": [
       "FloatProgress(value=0.0, bar_style='info', description='Progress:', layout=Layout(height='25px', width='50%'),…"
      ]
     },
     "metadata": {},
     "output_type": "display_data"
    }
   ],
   "source": [
    "istdaten =  spark.read.orc(\"/data/sbb/orc/istdaten\")\n",
    "stop = spark.read.orc(\"/data/sbb/orc/geostops\")\n",
    "calendar = spark.read.csv(\"/data/sbb/csv/timetable/calendar/2019/05/07/calendar.csv\", header=True)\n",
    "route = spark.read.csv(\"/data/sbb/csv/timetable/routes/2019/05/07/routes.csv\", header=True)\n",
    "stop_time = spark.read.csv(\"/data/sbb/csv/timetable/stop_times/2019/05/07/stop_times.csv\", header=True)\n",
    "trip = spark.read.csv(\"/data/sbb/csv/timetable/trips/2019/05/07/trips.csv\", header=True)"
   ]
  },
  {
   "cell_type": "code",
   "execution_count": 6,
   "metadata": {},
   "outputs": [
    {
     "data": {
      "application/vnd.jupyter.widget-view+json": {
       "model_id": "",
       "version_major": 2,
       "version_minor": 0
      },
      "text/plain": [
       "FloatProgress(value=0.0, bar_style='info', description='Progress:', layout=Layout(height='25px', width='50%'),…"
      ]
     },
     "metadata": {},
     "output_type": "display_data"
    },
    {
     "name": "stdout",
     "output_type": "stream",
     "text": [
      "+-----------+--------------------+------------+-------------+-------------------+----------+----------+-----------+---------+-------------------+--------------+-------------+-------+--------------------+----------------+-------------------+------------------+----------------+-------------------+------------------+-------------+\n",
      "|betriebstag|    fahrt_bezeichner|betreiber_id|betreiber_abk|     betreiber_name|produkt_id| linien_id|linien_text|umlauf_id|verkehrsmittel_text|zusatzfahrt_tf|faellt_aus_tf|  bpuic|   haltestellen_name|    ankunftszeit|        an_prognose|an_prognose_status|    abfahrtszeit|        ab_prognose|ab_prognose_status|durchfahrt_tf|\n",
      "+-----------+--------------------+------------+-------------+-------------------+----------+----------+-----------+---------+-------------------+--------------+-------------+-------+--------------------+----------------+-------------------+------------------+----------------+-------------------+------------------+-------------+\n",
      "| 02.02.2020|85:882:466719-051...|      85:882|          SBW|Stadtbus Winterthur|       Bus|85:882:101|          1|  1300104|                  B|         false|        false|8580472|Winterthur, Schmi...|02.02.2020 22:55|02.02.2020 22:57:31|          PROGNOSE|02.02.2020 22:55|02.02.2020 22:57:43|          PROGNOSE|        false|\n",
      "| 02.02.2020|85:882:466719-051...|      85:882|          SBW|Stadtbus Winterthur|       Bus|85:882:101|          1|  1300104|                  B|         false|        false|8580521|Winterthur, Stadt...|02.02.2020 22:56|02.02.2020 22:58:19|          PROGNOSE|02.02.2020 22:56|02.02.2020 22:58:31|          PROGNOSE|        false|\n",
      "| 02.02.2020|85:882:466719-051...|      85:882|          SBW|Stadtbus Winterthur|       Bus|85:882:101|          1|  1300104|                  B|         false|        false|8573656| Winterthur, Obertor|02.02.2020 22:56|02.02.2020 22:59:07|          PROGNOSE|02.02.2020 22:57|02.02.2020 22:59:19|          PROGNOSE|        false|\n",
      "| 02.02.2020|85:882:466719-051...|      85:882|          SBW|Stadtbus Winterthur|       Bus|85:882:101|          1|  1300104|                  B|         false|        false|8590982|Winterthur, Palms...|02.02.2020 22:58|02.02.2020 22:59:39|          PROGNOSE|02.02.2020 22:58|02.02.2020 22:59:51|          PROGNOSE|        false|\n",
      "| 02.02.2020|85:882:466719-051...|      85:882|          SBW|Stadtbus Winterthur|       Bus|85:882:101|          1|  1300104|                  B|         false|        false|8591007|   Winterthur, Swica|02.02.2020 22:58|02.02.2020 23:00:21|          PROGNOSE|02.02.2020 22:58|02.02.2020 23:00:33|          PROGNOSE|        false|\n",
      "+-----------+--------------------+------------+-------------+-------------------+----------+----------+-----------+---------+-------------------+--------------+-------------+-------+--------------------+----------------+-------------------+------------------+----------------+-------------------+------------------+-------------+\n",
      "only showing top 5 rows"
     ]
    }
   ],
   "source": [
    "istdaten.show(5)"
   ]
  },
  {
   "cell_type": "code",
   "execution_count": 7,
   "metadata": {},
   "outputs": [
    {
     "data": {
      "application/vnd.jupyter.widget-view+json": {
       "model_id": "",
       "version_major": 2,
       "version_minor": 0
      },
      "text/plain": [
       "FloatProgress(value=0.0, bar_style='info', description='Progress:', layout=Layout(height='25px', width='50%'),…"
      ]
     },
     "metadata": {},
     "output_type": "display_data"
    },
    {
     "name": "stdout",
     "output_type": "stream",
     "text": [
      "+-----------+--------------------+----------------+----------------+-------------+--------------+\n",
      "|    stop_id|           stop_name|        stop_lat|        stop_lon|location_type|parent_station|\n",
      "+-----------+--------------------+----------------+----------------+-------------+--------------+\n",
      "|    8711790|      Bouilly Mairie|48.1917218939628|3.99698199202347|         null|              |\n",
      "|    8573112|              Gwüest|46.6525768281602|8.51647805228063|         null|              |\n",
      "|8014471:0:3|            Albbruck|47.5923598499222|8.13177453180289|         null|      8014471P|\n",
      "|    8774562|          Perrignier| 46.303453968822|6.42497549173821|         null|              |\n",
      "|    8592544|Schaffhausen, Gre...|47.6988945057898|8.64765005008602|         null|              |\n",
      "+-----------+--------------------+----------------+----------------+-------------+--------------+\n",
      "only showing top 5 rows"
     ]
    }
   ],
   "source": [
    "stop.show(5)"
   ]
  },
  {
   "cell_type": "code",
   "execution_count": 8,
   "metadata": {},
   "outputs": [
    {
     "data": {
      "application/vnd.jupyter.widget-view+json": {
       "model_id": "",
       "version_major": 2,
       "version_minor": 0
      },
      "text/plain": [
       "FloatProgress(value=0.0, bar_style='info', description='Progress:', layout=Layout(height='25px', width='50%'),…"
      ]
     },
     "metadata": {},
     "output_type": "display_data"
    },
    {
     "name": "stdout",
     "output_type": "stream",
     "text": [
      "+----------+------+-------+---------+--------+------+--------+------+----------+--------+\n",
      "|service_id|monday|tuesday|wednesday|thursday|friday|saturday|sunday|start_date|end_date|\n",
      "+----------+------+-------+---------+--------+------+--------+------+----------+--------+\n",
      "|  TA+b0006|     1|      1|        1|       1|     1|       0|     0|  20181209|20191214|\n",
      "|  TA+b0ch2|     0|      0|        0|       0|     0|       1|     1|  20181209|20191214|\n",
      "|  TA+b0014|     0|      0|        0|       0|     0|       0|     1|  20181209|20191214|\n",
      "|  TA+b000w|     0|      0|        0|       0|     0|       1|     0|  20181209|20191214|\n",
      "|  TA+b001b|     1|      1|        1|       1|     1|       1|     0|  20181209|20191214|\n",
      "+----------+------+-------+---------+--------+------+--------+------+----------+--------+\n",
      "only showing top 5 rows"
     ]
    }
   ],
   "source": [
    "calendar.show(5)"
   ]
  },
  {
   "cell_type": "code",
   "execution_count": 9,
   "metadata": {},
   "outputs": [
    {
     "data": {
      "application/vnd.jupyter.widget-view+json": {
       "model_id": "",
       "version_major": 2,
       "version_minor": 0
      },
      "text/plain": [
       "FloatProgress(value=0.0, bar_style='info', description='Progress:', layout=Layout(height='25px', width='50%'),…"
      ]
     },
     "metadata": {},
     "output_type": "display_data"
    },
    {
     "name": "stdout",
     "output_type": "stream",
     "text": [
      "+-----------+---------+----------------+---------------+----------+----------+\n",
      "|   route_id|agency_id|route_short_name|route_long_name|route_desc|route_type|\n",
      "+-----------+---------+----------------+---------------+----------+----------+\n",
      "|11-40-j19-1|      801|             040|           null|       Bus|       700|\n",
      "|11-61-j19-1|     7031|             061|           null|       Bus|       700|\n",
      "|11-62-j19-1|     7031|             062|           null|       Bus|       700|\n",
      "|24-64-j19-1|      801|             064|           null|       Bus|       700|\n",
      "|11-83-j19-1|      801|             083|           null|       Bus|       700|\n",
      "+-----------+---------+----------------+---------------+----------+----------+\n",
      "only showing top 5 rows"
     ]
    }
   ],
   "source": [
    "route.show(5)"
   ]
  },
  {
   "cell_type": "code",
   "execution_count": 10,
   "metadata": {},
   "outputs": [
    {
     "data": {
      "application/vnd.jupyter.widget-view+json": {
       "model_id": "",
       "version_major": 2,
       "version_minor": 0
      },
      "text/plain": [
       "FloatProgress(value=0.0, bar_style='info', description='Progress:', layout=Layout(height='25px', width='50%'),…"
      ]
     },
     "metadata": {},
     "output_type": "display_data"
    },
    {
     "name": "stdout",
     "output_type": "stream",
     "text": [
      "+-------------------+------------+--------------+-------+-------------+-----------+-------------+\n",
      "|            trip_id|arrival_time|departure_time|stop_id|stop_sequence|pickup_type|drop_off_type|\n",
      "+-------------------+------------+--------------+-------+-------------+-----------+-------------+\n",
      "|1.TA.1-84-j19-1.1.H|    06:13:00|      06:13:00|8572249|            1|          0|            0|\n",
      "|1.TA.1-84-j19-1.1.H|    06:14:00|      06:14:00|8577508|            2|          0|            0|\n",
      "|1.TA.1-84-j19-1.1.H|    06:15:00|      06:15:00|8581070|            3|          0|            0|\n",
      "|1.TA.1-84-j19-1.1.H|    06:16:00|      06:16:00|8578360|            4|          0|            0|\n",
      "|1.TA.1-84-j19-1.1.H|    06:17:00|      06:17:00|8583448|            5|          0|            0|\n",
      "+-------------------+------------+--------------+-------+-------------+-----------+-------------+\n",
      "only showing top 5 rows"
     ]
    }
   ],
   "source": [
    "stop_time.show(5)"
   ]
  },
  {
   "cell_type": "code",
   "execution_count": 11,
   "metadata": {},
   "outputs": [
    {
     "data": {
      "application/vnd.jupyter.widget-view+json": {
       "model_id": "",
       "version_major": 2,
       "version_minor": 0
      },
      "text/plain": [
       "FloatProgress(value=0.0, bar_style='info', description='Progress:', layout=Layout(height='25px', width='50%'),…"
      ]
     },
     "metadata": {},
     "output_type": "display_data"
    },
    {
     "name": "stdout",
     "output_type": "stream",
     "text": [
      "+-----------+----------+--------------------+---------------+------------+\n",
      "|   route_id|service_id|             trip_id|trip_short_name|direction_id|\n",
      "+-----------+----------+--------------------+---------------+------------+\n",
      "| 1-85-j19-1|  TA+b0001| 2.TA.1-85-j19-1.1.H|          85003|           0|\n",
      "|1-1-C-j19-1|  TA+b0001|5.TA.1-1-C-j19-1.3.R|            108|           1|\n",
      "|1-1-C-j19-1|  TA+b0001|7.TA.1-1-C-j19-1.3.R|            112|           1|\n",
      "|1-1-C-j19-1|  TA+b0001|9.TA.1-1-C-j19-1.3.R|            116|           1|\n",
      "|1-1-C-j19-1|  TA+b0001|11.TA.1-1-C-j19-1...|            120|           1|\n",
      "+-----------+----------+--------------------+---------------+------------+\n",
      "only showing top 5 rows"
     ]
    }
   ],
   "source": [
    "trip.show(5)"
   ]
  },
  {
   "cell_type": "code",
   "execution_count": 12,
   "metadata": {},
   "outputs": [
    {
     "data": {
      "application/vnd.jupyter.widget-view+json": {
       "model_id": "",
       "version_major": 2,
       "version_minor": 0
      },
      "text/plain": [
       "FloatProgress(value=0.0, bar_style='info', description='Progress:', layout=Layout(height='25px', width='50%'),…"
      ]
     },
     "metadata": {},
     "output_type": "display_data"
    },
    {
     "name": "stdout",
     "output_type": "stream",
     "text": [
      "istdaten has 1415309386 rows\n",
      "stops has 39027 rows\n",
      "calendars has 21813 rows\n",
      "routes has 4990 rows\n",
      "stop_times has 10862563 rows\n",
      "trips has 998456 rows"
     ]
    }
   ],
   "source": [
    "print(\"istdaten has \" + str(istdaten.count())+ \" rows\")\n",
    "print(\"stops has \" + str(stop.count()) + \" rows\")\n",
    "print(\"calendars has \" + str(calendar.count()) +\" rows\")\n",
    "print(\"routes has \"+ str(route.count()) + \" rows\")\n",
    "print(\"stop_times has \" + str(stop_time.count()) + \" rows\")\n",
    "print(\"trips has \" + str(trip.count()) +\" rows\")"
   ]
  },
  {
   "cell_type": "markdown",
   "metadata": {},
   "source": [
    "## Filtering\n",
    "\n",
    "We want to keep only stops within a 15 km radius from Zürich HBB. \n",
    "\n",
    "We also want to keep only trips on business hours (8-20) and planned every business days"
   ]
  },
  {
   "cell_type": "code",
   "execution_count": 13,
   "metadata": {},
   "outputs": [
    {
     "data": {
      "application/vnd.jupyter.widget-view+json": {
       "model_id": "",
       "version_major": 2,
       "version_minor": 0
      },
      "text/plain": [
       "FloatProgress(value=0.0, bar_style='info', description='Progress:', layout=Layout(height='25px', width='50%'),…"
      ]
     },
     "metadata": {},
     "output_type": "display_data"
    }
   ],
   "source": [
    "def haversine_distance(lon1, lat1, lon2, lat2):\n",
    "    \"\"\"\n",
    "    Calculate the great circle distance between two points \n",
    "    on the earth (specified in decimal degrees)\n",
    "    \"\"\"\n",
    "    # convert decimal degrees to radians \n",
    "    lon1, lat1, lon2, lat2 = map(radians, [lon1, lat1, lon2, lat2])\n",
    "\n",
    "    # haversine formula \n",
    "    dlon = lon2 - lon1 \n",
    "    dlat = lat2 - lat1 \n",
    "    a = sin(dlat/2)**2 + cos(lat1) * cos(lat2) * sin(dlon/2)**2\n",
    "    c = 2 * asin(sqrt(a)) \n",
    "    r = 6371 # Radius of earth in kilometers. Use 3956 for miles\n",
    "    return c * r\n",
    "\n",
    "lat_zurich = 47.378177\n",
    "lon_zurich = 8.540192\n",
    "\n",
    "@F.udf\n",
    "def in_zurich(lat, lon):\n",
    "    return haversine_distance(lon, lat, lon_zurich, lat_zurich) < 15"
   ]
  },
  {
   "cell_type": "code",
   "execution_count": 14,
   "metadata": {},
   "outputs": [
    {
     "data": {
      "application/vnd.jupyter.widget-view+json": {
       "model_id": "",
       "version_major": 2,
       "version_minor": 0
      },
      "text/plain": [
       "FloatProgress(value=0.0, bar_style='info', description='Progress:', layout=Layout(height='25px', width='50%'),…"
      ]
     },
     "metadata": {},
     "output_type": "display_data"
    },
    {
     "name": "stdout",
     "output_type": "stream",
     "text": [
      "DataFrame representing filtered stop times has 8224334 rows\n",
      "DataFrame representing filtered stop has 1950 rows\n",
      "DataFrame representing stop time in zurich in normal hours has 1473757 rows\n",
      "DataFrame representing trip in zurich in normal hours has 1473757 rows\n",
      "DataFrame representing stop in zurich during normal hours on week days has 292697rows \n",
      "+--------------------+-------+----------+------------+--------------+-------------+--------------+------------+----------+\n",
      "|             trip_id|stop_id| stop_name|arrival_time|departure_time|stop_sequence|parent_station|direction_id|route_desc|\n",
      "+--------------------+-------+----------+------------+--------------+-------------+--------------+------------+----------+\n",
      "|1.TA.26-18-j19-1.1.H|8503064|  Scheuren|    10:41:00|      10:41:00|            1|              |           0|    S-Bahn|\n",
      "|1.TA.26-18-j19-1.1.H|8503065|     Forch|    10:45:00|      10:45:00|            2|      8503065P|           0|    S-Bahn|\n",
      "|1.TA.26-18-j19-1.1.H|8503074|Neue Forch|    10:46:00|      10:46:00|            3|              |           0|    S-Bahn|\n",
      "|1.TA.26-18-j19-1.1.H|8503068|  Maiacher|    10:47:00|      10:47:00|            4|              |           0|    S-Bahn|\n",
      "|1.TA.26-18-j19-1.1.H|8503066|   Zumikon|    10:48:00|      10:48:00|            5|              |           0|    S-Bahn|\n",
      "+--------------------+-------+----------+------------+--------------+-------------+--------------+------------+----------+\n",
      "only showing top 5 rows"
     ]
    }
   ],
   "source": [
    "stop_business_time = stop_time.where((stop_time.arrival_time <= \"20:00:00\") & (stop_time.departure_time >= \"07:00:00\"))\n",
    "print(\"DataFrame representing filtered stop times has \" + str(stop_business_time.count()) + \" rows\")\n",
    "\n",
    "stop_zurich_unwrangled = stop.filter(in_zurich(stop.stop_lat, stop.stop_lon) == True)\n",
    "stop_zurich = stop_zurich_unwrangled.withColumn('parent_station_2', F.substring(stop_zurich_unwrangled.stop_id, 0, 7))\n",
    "stop_zurich = stop_zurich.withColumn('stop_id_2', F.when(F.length(F.col(\"stop_id\")) > 7, stop_zurich.parent_station_2).otherwise(stop_zurich.stop_id))\n",
    "stop_zurich = stop_zurich.drop(\"stop_id\").withColumnRenamed(\"stop_id_2\", \"stop_id\")\n",
    "\n",
    "print(\"DataFrame representing filtered stop has \" + str(stop_zurich.count()) + \" rows\")\n",
    "\n",
    "stop_time_zurich = stop_business_time.join(stop_zurich_unwrangled, on=\"stop_id\")\n",
    "stop_time_zurich_cleaned = stop_time_zurich.withColumn('parent_station_2', F.substring(stop_time_zurich.stop_id, 0, 7))\n",
    "stop_time_zurich_cleaned = stop_time_zurich_cleaned.withColumn('stop_id_2', F.when(F.length(F.col(\"stop_id\")) > 7, stop_time_zurich_cleaned.parent_station_2).otherwise(stop_time_zurich_cleaned.stop_id))\n",
    "stop_time_zurich_cleaned = stop_time_zurich_cleaned.drop(\"stop_id\").withColumnRenamed(\"stop_id_2\", \"stop_id\")\n",
    "print(\"DataFrame representing stop time in zurich in normal hours has \" + str(stop_time_zurich_cleaned.count()) + \" rows\")\n",
    "\n",
    "trip_in_zurich = trip.join(stop_time_zurich_cleaned, on=\"trip_id\")\n",
    "print(\"DataFrame representing trip in zurich in normal hours has \" + str(trip_in_zurich.count()) + \" rows\")\n",
    "\n",
    "calendar_business_day = calendar.filter((calendar.monday == 1) &\n",
    "                            (calendar.tuesday == 1) &\n",
    "                            (calendar.wednesday == 1) &\n",
    "                            (calendar.thursday == 1) &\n",
    "                            (calendar.friday == 1))\n",
    "\n",
    "joined_data = trip_in_zurich.join(calendar_business_day, on=\"service_id\")\n",
    "print(\"DataFrame representing stop in zurich during normal hours on week days has \" + str(joined_data.count()) + \"rows \")\n",
    "\n",
    "joined_data = joined_data.join(route, on=\"route_id\")\n",
    "\n",
    "joined_data_filter = joined_data.select([\"trip_id\", \"stop_id\", \"stop_name\", \"arrival_time\", \"departure_time\", \"stop_sequence\", \"parent_station\", \"direction_id\", \"route_desc\"])\n",
    "joined_data_filter.show(5)"
   ]
  },
  {
   "cell_type": "markdown",
   "metadata": {},
   "source": [
    "## Switching from stops to journey\n",
    "\n",
    "We currently have a data formate where a row represents a stop.\n",
    "\n",
    "We aim at switching to a data format where a row represent a journey of a public transport from one row to the next ones.\n",
    "\n",
    "These rows will be the edges of our graph.\n",
    "\n",
    "We will switch to this data format using pyspark windows."
   ]
  },
  {
   "cell_type": "code",
   "execution_count": 15,
   "metadata": {},
   "outputs": [
    {
     "data": {
      "application/vnd.jupyter.widget-view+json": {
       "model_id": "",
       "version_major": 2,
       "version_minor": 0
      },
      "text/plain": [
       "FloatProgress(value=0.0, bar_style='info', description='Progress:', layout=Layout(height='25px', width='50%'),…"
      ]
     },
     "metadata": {},
     "output_type": "display_data"
    }
   ],
   "source": [
    "joined_data_filter = joined_data_filter.withColumn(\"stop_sequence\", joined_data_filter.stop_sequence.cast('int'))\n",
    "trip_window = Window.partitionBy('trip_id').orderBy('stop_sequence')\n",
    "stop_id_from = F.lag('stop_id', 1).over(trip_window).alias('stop_id_from')\n",
    "departure_time = F.lag('departure_time', 1).over(trip_window).alias('departure_time')\n",
    "stop_name_from = F.lag('stop_name', 1).over(trip_window).alias('stop_name_from')"
   ]
  },
  {
   "cell_type": "code",
   "execution_count": 16,
   "metadata": {},
   "outputs": [
    {
     "data": {
      "application/vnd.jupyter.widget-view+json": {
       "model_id": "",
       "version_major": 2,
       "version_minor": 0
      },
      "text/plain": [
       "FloatProgress(value=0.0, bar_style='info', description='Progress:', layout=Layout(height='25px', width='50%'),…"
      ]
     },
     "metadata": {},
     "output_type": "display_data"
    },
    {
     "name": "stdout",
     "output_type": "stream",
     "text": [
      "+--------------------+------------+----------+--------------+------------+--------------+------------+----------+\n",
      "|             trip_id|stop_id_from|stop_id_to|stop_name_from|stop_name_to|departure_time|arrival_time|route_desc|\n",
      "+--------------------+------------+----------+--------------+------------+--------------+------------+----------+\n",
      "|1.TA.26-18-j19-1.1.H|        null|   8503064|          null|    Scheuren|          null|    10:41:00|    S-Bahn|\n",
      "|1.TA.26-18-j19-1.1.H|     8503064|   8503065|      Scheuren|       Forch|      10:41:00|    10:45:00|    S-Bahn|\n",
      "|1.TA.26-18-j19-1.1.H|     8503065|   8503074|         Forch|  Neue Forch|      10:45:00|    10:46:00|    S-Bahn|\n",
      "|1.TA.26-18-j19-1.1.H|     8503074|   8503068|    Neue Forch|    Maiacher|      10:46:00|    10:47:00|    S-Bahn|\n",
      "|1.TA.26-18-j19-1.1.H|     8503068|   8503066|      Maiacher|     Zumikon|      10:47:00|    10:48:00|    S-Bahn|\n",
      "+--------------------+------------+----------+--------------+------------+--------------+------------+----------+\n",
      "only showing top 5 rows"
     ]
    }
   ],
   "source": [
    "journey_df = joined_data_filter.select(\"trip_id\", stop_id_from, \"stop_id\", stop_name_from, \"stop_name\", departure_time, \"arrival_time\", \"route_desc\")\n",
    "journey_df = journey_df.withColumnRenamed(\"stop_id\", \"stop_id_to\").withColumnRenamed(\"stop_name\", \"stop_name_to\")\n",
    "journey_df.show(5)"
   ]
  },
  {
   "cell_type": "code",
   "execution_count": 17,
   "metadata": {},
   "outputs": [
    {
     "data": {
      "application/vnd.jupyter.widget-view+json": {
       "model_id": "",
       "version_major": 2,
       "version_minor": 0
      },
      "text/plain": [
       "FloatProgress(value=0.0, bar_style='info', description='Progress:', layout=Layout(height='25px', width='50%'),…"
      ]
     },
     "metadata": {},
     "output_type": "display_data"
    },
    {
     "name": "stdout",
     "output_type": "stream",
     "text": [
      "We have 268778 possible journeys through public transportations\n",
      "+--------------------+------------+----------+--------------+------------+--------------+------------+----------+--------+\n",
      "|             trip_id|stop_id_from|stop_id_to|stop_name_from|stop_name_to|departure_time|arrival_time|route_desc|duration|\n",
      "+--------------------+------------+----------+--------------+------------+--------------+------------+----------+--------+\n",
      "|1.TA.26-18-j19-1.1.H|     8503064|   8503065|      Scheuren|       Forch|      10:41:00|    10:45:00|    S-Bahn|       4|\n",
      "|1.TA.26-18-j19-1.1.H|     8503065|   8503074|         Forch|  Neue Forch|      10:45:00|    10:46:00|    S-Bahn|       1|\n",
      "|1.TA.26-18-j19-1.1.H|     8503074|   8503068|    Neue Forch|    Maiacher|      10:46:00|    10:47:00|    S-Bahn|       1|\n",
      "|1.TA.26-18-j19-1.1.H|     8503068|   8503066|      Maiacher|     Zumikon|      10:47:00|    10:48:00|    S-Bahn|       1|\n",
      "|1.TA.26-18-j19-1.1.H|     8503066|   8503075|       Zumikon|    Waltikon|      10:48:00|    10:50:00|    S-Bahn|       2|\n",
      "+--------------------+------------+----------+--------------+------------+--------------+------------+----------+--------+\n",
      "only showing top 5 rows"
     ]
    }
   ],
   "source": [
    "@F.udf\n",
    "def compute_duration(departure_time, arrival_time):\n",
    "    if (departure_time is None):\n",
    "        return 0\n",
    "    dep_time = datetime.datetime.strptime(departure_time, \"%H:%M:%S\")\n",
    "    arr_time = datetime.datetime.strptime(arrival_time, \"%H:%M:%S\")\n",
    "    return (arr_time - dep_time).seconds / 60\n",
    "\n",
    "journey_df = journey_df.withColumn(\"duration\", compute_duration(journey_df.departure_time, journey_df.arrival_time))\n",
    "journey_df = journey_df.filter(journey_df.departure_time.isNotNull())\n",
    "\n",
    "print(\"We have \" + str(journey_df.count())+ \" possible journeys through public transportations\")\n",
    "journey_df.show(5)"
   ]
  },
  {
   "cell_type": "markdown",
   "metadata": {},
   "source": [
    "## Walking distance\n",
    "\n",
    "Every users can walk to a distance of 500 meters from one stop to another.\n",
    "\n",
    "The duration of a transfer is 2 mn, on which we add 1 mn every 50 meters.\n",
    "\n",
    "As we need to have these transfer to compute correctly our graph, we isolate it from the stops by using a cross join and computing each distance, then filtering it."
   ]
  },
  {
   "cell_type": "code",
   "execution_count": 18,
   "metadata": {},
   "outputs": [
    {
     "data": {
      "application/vnd.jupyter.widget-view+json": {
       "model_id": "",
       "version_major": 2,
       "version_minor": 0
      },
      "text/plain": [
       "FloatProgress(value=0.0, bar_style='info', description='Progress:', layout=Layout(height='25px', width='50%'),…"
      ]
     },
     "metadata": {},
     "output_type": "display_data"
    },
    {
     "name": "stdout",
     "output_type": "stream",
     "text": [
      "We have 1950 stops"
     ]
    }
   ],
   "source": [
    "print(\"We have \" +  str(stop_zurich.count())+ \" stops\")"
   ]
  },
  {
   "cell_type": "code",
   "execution_count": 19,
   "metadata": {},
   "outputs": [
    {
     "data": {
      "application/vnd.jupyter.widget-view+json": {
       "model_id": "",
       "version_major": 2,
       "version_minor": 0
      },
      "text/plain": [
       "FloatProgress(value=0.0, bar_style='info', description='Progress:', layout=Layout(height='25px', width='50%'),…"
      ]
     },
     "metadata": {},
     "output_type": "display_data"
    },
    {
     "name": "stdout",
     "output_type": "stream",
     "text": [
      "+--------------------+---------+--------+-------------+--------------+----------------+-------+---------+--------------------+----------+----------+\n",
      "|           stop_name| stop_lat|stop_lon|location_type|parent_station|parent_station_2|stop_id|stop_id_2|         stop_name_2|stop_lat_2|stop_lon_2|\n",
      "+--------------------+---------+--------+-------------+--------------+----------------+-------+---------+--------------------+----------+----------+\n",
      "|Oberhasli, Industrie|47.459267|8.490014|         null|              |         8557033|8557033|  8557033|Oberhasli, Industrie| 47.459267|  8.490014|\n",
      "|Oberhasli, Industrie|47.459267|8.490014|         null|              |         8557033|8557033|  8573711|   Zürich, Sädlenweg| 47.367756|   8.48748|\n",
      "|Oberhasli, Industrie|47.459267|8.490014|         null|              |         8557033|8557033|  8591828|    Ebmatingen, Dorf|  47.35139|  8.641003|\n",
      "|Oberhasli, Industrie|47.459267|8.490014|         null|              |         8557033|8557033|  8590610|Fällanden, Schütz...| 47.368626|  8.632478|\n",
      "|Oberhasli, Industrie|47.459267|8.490014|         null|              |         8557033|8557033|  8580617|    Bülach, Engelwis|  47.51119|   8.53713|\n",
      "+--------------------+---------+--------+-------------+--------------+----------------+-------+---------+--------------------+----------+----------+\n",
      "only showing top 5 rows"
     ]
    }
   ],
   "source": [
    "stop_zurich_renamed = stop_zurich.select(stop_zurich.stop_id.alias(\"stop_id_2\"), stop_zurich.stop_name.alias(\"stop_name_2\"), stop_zurich.stop_lat.alias(\"stop_lat_2\"), stop_zurich.stop_lon.alias(\"stop_lon_2\"))\n",
    "cross_join = stop_zurich.crossJoin(stop_zurich_renamed)\n",
    "cross_join = cross_join.withColumn(\"stop_lat\", cross_join.stop_lat.cast('float'))\\\n",
    "                       .withColumn(\"stop_lat_2\", cross_join.stop_lat_2.cast('float'))\\\n",
    "                       .withColumn(\"stop_lon\", cross_join.stop_lon.cast('float'))\\\n",
    "                       .withColumn(\"stop_lon_2\", cross_join.stop_lon_2.cast('float'))\n",
    "\n",
    "cross_join.show(5)"
   ]
  },
  {
   "cell_type": "code",
   "execution_count": 20,
   "metadata": {},
   "outputs": [
    {
     "data": {
      "application/vnd.jupyter.widget-view+json": {
       "model_id": "",
       "version_major": 2,
       "version_minor": 0
      },
      "text/plain": [
       "FloatProgress(value=0.0, bar_style='info', description='Progress:', layout=Layout(height='25px', width='50%'),…"
      ]
     },
     "metadata": {},
     "output_type": "display_data"
    },
    {
     "name": "stdout",
     "output_type": "stream",
     "text": [
      "+--------------------+---------+--------+-------------+--------------+----------------+-------+---------+--------------------+----------+----------+-------------------+------------------+\n",
      "|           stop_name| stop_lat|stop_lon|location_type|parent_station|parent_station_2|stop_id|stop_id_2|         stop_name_2|stop_lat_2|stop_lon_2|           distance|     transfer_time|\n",
      "+--------------------+---------+--------+-------------+--------------+----------------+-------+---------+--------------------+----------+----------+-------------------+------------------+\n",
      "|Oberhasli, Industrie|47.459267|8.490014|         null|              |         8557033|8557033|  8557033|Oberhasli, Industrie| 47.459267|  8.490014|                0.0|               2.0|\n",
      "|   Zürich, Sädlenweg|47.367756| 8.48748|         null|              |         8573711|8573711|  8573711|   Zürich, Sädlenweg| 47.367756|   8.48748|                0.0|               2.0|\n",
      "|   Zürich, Sädlenweg|47.367756| 8.48748|         null|              |         8573711|8573711|  8591214|   Zürich, In der Ey|  47.36924|  8.491631| 0.3534462105084482| 9.068924210168964|\n",
      "|   Zürich, Sädlenweg|47.367756| 8.48748|         null|              |         8573711|8573711|  8591163|Zürich, Goldackerweg|  47.37189|  8.487929| 0.4610482961473472|11.220965922946945|\n",
      "|    Ebmatingen, Dorf| 47.35139|8.641003|         null|              |         8591828|8591828|  8591828|    Ebmatingen, Dorf|  47.35139|  8.641003|                0.0|               2.0|\n",
      "|Fällanden, Schütz...|47.368626|8.632478|         null|              |         8590610|8590610|  8590610|Fällanden, Schütz...| 47.368626|  8.632478|                0.0|               2.0|\n",
      "|Fällanden, Schütz...|47.368626|8.632478|         null|              |         8590610|8590610|  8590612|      Fällanden, Zil| 47.372246|  8.636214|0.49113956386465035|11.822791277293007|\n",
      "|Fällanden, Schütz...|47.368626|8.632478|         null|              |         8590610|8590610|  8590605|   Fällanden, Eggler|  47.37159|  8.634714|0.37012096328459126| 9.402419265691826|\n",
      "|Fällanden, Schütz...|47.368626|8.632478|         null|              |         8590610|8590610|  8590752|Pfaffhausen, Pfaf...| 47.368557|  8.628561| 0.2950686439948103| 7.901372879896206|\n",
      "|    Bülach, Engelwis| 47.51119| 8.53713|         null|              |         8580617|8580617|  8580617|    Bülach, Engelwis|  47.51119|   8.53713|                0.0|               2.0|\n",
      "+--------------------+---------+--------+-------------+--------------+----------------+-------+---------+--------------------+----------+----------+-------------------+------------------+\n",
      "only showing top 10 rows"
     ]
    }
   ],
   "source": [
    "@F.udf\n",
    "def haversine_distance_udf(lon1, lat1, lon2, lat2):\n",
    "    \"\"\"\n",
    "    Calculate the great circle distance between two points \n",
    "    on the earth (specified in decimal degrees)\n",
    "    \"\"\"\n",
    "    # convert decimal degrees to radians \n",
    "    lon1, lat1, lon2, lat2 = map(radians, [lon1, lat1, lon2, lat2])\n",
    "\n",
    "    # haversine formula \n",
    "    dlon = lon2 - lon1 \n",
    "    dlat = lat2 - lat1 \n",
    "    a = sin(dlat/2)**2 + cos(lat1) * cos(lat2) * sin(dlon/2)**2\n",
    "    c = 2 * asin(sqrt(a)) \n",
    "    r = 6371 # Radius of earth in kilometers. Use 3956 for miles\n",
    "    return c * r\n",
    "\n",
    "@F.udf\n",
    "def transfer_time(distance):\n",
    "    return (2 + distance * 20)\n",
    "\n",
    "@F.udf \n",
    "def transfer_time_minute(transfer_time):\n",
    "    return floor(transfer_time / 60)\n",
    "\n",
    "@F.udf \n",
    "def transfer_time_second(transfer_time):\n",
    "    return floor(transfer_time % 60)\n",
    "\n",
    "\n",
    "cross_join = cross_join.withColumn(\"distance\", haversine_distance_udf(cross_join.stop_lon, cross_join.stop_lat, cross_join.stop_lon_2, cross_join.stop_lat_2))\n",
    "cross_join = cross_join.filter(cross_join.distance < 0.5)\n",
    "cross_join = cross_join.withColumn(\"transfer_time\", transfer_time(cross_join.distance))\n",
    "cross_join.show(10)"
   ]
  },
  {
   "cell_type": "code",
   "execution_count": 21,
   "metadata": {},
   "outputs": [
    {
     "data": {
      "application/vnd.jupyter.widget-view+json": {
       "model_id": "",
       "version_major": 2,
       "version_minor": 0
      },
      "text/plain": [
       "FloatProgress(value=0.0, bar_style='info', description='Progress:', layout=Layout(height='25px', width='50%'),…"
      ]
     },
     "metadata": {},
     "output_type": "display_data"
    },
    {
     "name": "stdout",
     "output_type": "stream",
     "text": [
      "we have 16288 possible transfer by walking distance"
     ]
    }
   ],
   "source": [
    "print(\"we have \" + str(cross_join.count()) + \" possible transfer by walking distance\")"
   ]
  },
  {
   "cell_type": "code",
   "execution_count": 22,
   "metadata": {},
   "outputs": [
    {
     "data": {
      "application/vnd.jupyter.widget-view+json": {
       "model_id": "",
       "version_major": 2,
       "version_minor": 0
      },
      "text/plain": [
       "FloatProgress(value=0.0, bar_style='info', description='Progress:', layout=Layout(height='25px', width='50%'),…"
      ]
     },
     "metadata": {},
     "output_type": "display_data"
    },
    {
     "name": "stdout",
     "output_type": "stream",
     "text": [
      "+-------+--------------------+---------+--------------------+------------------+------------------+\n",
      "|stop_id|           stop_name|stop_id_2|         stop_name_2|     transfer_time|time_transfer_unix|\n",
      "+-------+--------------------+---------+--------------------+------------------+------------------+\n",
      "|8557033|Oberhasli, Industrie|  8557033|Oberhasli, Industrie|               2.0|               120|\n",
      "|8573711|   Zürich, Sädlenweg|  8573711|   Zürich, Sädlenweg|               2.0|               120|\n",
      "|8573711|   Zürich, Sädlenweg|  8591214|   Zürich, In der Ey| 9.068924210168964|               540|\n",
      "|8573711|   Zürich, Sädlenweg|  8591163|Zürich, Goldackerweg|11.220965922946945|               660|\n",
      "|8591828|    Ebmatingen, Dorf|  8591828|    Ebmatingen, Dorf|               2.0|               120|\n",
      "+-------+--------------------+---------+--------------------+------------------+------------------+\n",
      "only showing top 5 rows"
     ]
    }
   ],
   "source": [
    "# Selecting transfers, converting transfer time in unix for next arrival time \n",
    "spark.conf.set(\"spark.sql.session.timeZone\", \"GMT\")\n",
    "\n",
    "stop_transfers = cross_join.select(cross_join.stop_id,cross_join.stop_name,cross_join.stop_id_2,cross_join.stop_name_2,cross_join.transfer_time)\\\n",
    "                            .withColumn(\"time_transfer_unix\",F.unix_timestamp(F.col(\"transfer_time\"),\"mm\"))\n",
    "\n",
    "stop_transfers.show(5)"
   ]
  },
  {
   "cell_type": "markdown",
   "metadata": {},
   "source": [
    "## Creating our exhaustive graph edges\n",
    "\n",
    "As we want to compute our *Graph edges 2* which contains the departure time for all walking distances, we need to left outer join our public transportation DataFrame arrival id with our stop transfers."
   ]
  },
  {
   "cell_type": "code",
   "execution_count": 23,
   "metadata": {},
   "outputs": [
    {
     "data": {
      "application/vnd.jupyter.widget-view+json": {
       "model_id": "",
       "version_major": 2,
       "version_minor": 0
      },
      "text/plain": [
       "FloatProgress(value=0.0, bar_style='info', description='Progress:', layout=Layout(height='25px', width='50%'),…"
      ]
     },
     "metadata": {},
     "output_type": "display_data"
    },
    {
     "name": "stdout",
     "output_type": "stream",
     "text": [
      "+----------+------------+--------------+-------------------+\n",
      "|stop_id_to|stop_name_to|departure_time|departure_time_unix|\n",
      "+----------+------------+--------------+-------------------+\n",
      "|   8503065|       Forch|      10:45:00|              38700|\n",
      "|   8503074|  Neue Forch|      10:46:00|              38760|\n",
      "|   8503068|    Maiacher|      10:47:00|              38820|\n",
      "|   8503066|     Zumikon|      10:48:00|              38880|\n",
      "|   8503075|    Waltikon|      10:50:00|              39000|\n",
      "+----------+------------+--------------+-------------------+\n",
      "only showing top 5 rows"
     ]
    }
   ],
   "source": [
    "# Selecting all stops with arrival times for left outer join \n",
    "# spark.conf.set(\"spark.sql.session.timeZone\", \"UTC\")\n",
    "\n",
    "stop_times = journey_df.select([\"stop_id_to\", \"stop_name_to\", \"arrival_time\"])\\\n",
    "                       .withColumn(\"departure_time_unix\",F.unix_timestamp(F.col(\"arrival_time\"),\"H:mm:ss\") )\\\n",
    "                       .withColumnRenamed(\"arrival_time\",\"departure_time\")\n",
    "\n",
    "stop_times.show(5)"
   ]
  },
  {
   "cell_type": "code",
   "execution_count": 25,
   "metadata": {},
   "outputs": [
    {
     "data": {
      "application/vnd.jupyter.widget-view+json": {
       "model_id": "",
       "version_major": 2,
       "version_minor": 0
      },
      "text/plain": [
       "FloatProgress(value=0.0, bar_style='info', description='Progress:', layout=Layout(height='25px', width='50%'),…"
      ]
     },
     "metadata": {},
     "output_type": "display_data"
    },
    {
     "name": "stdout",
     "output_type": "stream",
     "text": [
      "+-------+--------------------+--------------+---------+--------------------+------------+------------------+\n",
      "|stop_id|           stop_name|departure_time|stop_id_2|         stop_name_2|arrival_time|          duration|\n",
      "+-------+--------------------+--------------+---------+--------------------+------------+------------------+\n",
      "|8502508|Spreitenbach, Rai...|      08:00:00|  8590270| Spreitenbach, Brüel|    08:11:00|11.482654229404913|\n",
      "|8502508|Spreitenbach, Rai...|      08:00:00|  8502508|Spreitenbach, Rai...|    08:02:00|               2.0|\n",
      "|8502508|Spreitenbach, Rai...|      08:00:00|  8590268|   Spreitenbach, ASP|    08:06:00|  6.46300812901671|\n",
      "|8502508|Spreitenbach, Rai...|      16:29:00|  8590270| Spreitenbach, Brüel|    16:40:00|11.482654229404913|\n",
      "|8502508|Spreitenbach, Rai...|      16:29:00|  8502508|Spreitenbach, Rai...|    16:31:00|               2.0|\n",
      "+-------+--------------------+--------------+---------+--------------------+------------+------------------+\n",
      "only showing top 5 rows"
     ]
    }
   ],
   "source": [
    "# Inferring arrival time based on travel time \n",
    "left_join = stop_times.join(stop_transfers, stop_times.stop_id_to == stop_transfers.stop_id, how='left')\n",
    "stop_transfer_joined = left_join.withColumn(\"arrival_time\",\n",
    "                                            F.from_unixtime(F.col(\"departure_time_unix\")+F.col(\"time_transfer_unix\")\\\n",
    "                                                                            ,\"HH:mm:ss\"))\n",
    "\n",
    "stop_transfer_joined = stop_transfer_joined.select([\"stop_id\", \"stop_name\", \"departure_time\", \"stop_id_2\", \"stop_name_2\", \"arrival_time\", \"transfer_time\"])\\\n",
    "                                           .withColumnRenamed(\"transfer_time\",\"duration\")\n",
    "\n",
    "stop_transfer_joined.show(5)"
   ]
  },
  {
   "cell_type": "code",
   "execution_count": 26,
   "metadata": {},
   "outputs": [
    {
     "data": {
      "application/vnd.jupyter.widget-view+json": {
       "model_id": "",
       "version_major": 2,
       "version_minor": 0
      },
      "text/plain": [
       "FloatProgress(value=0.0, bar_style='info', description='Progress:', layout=Layout(height='25px', width='50%'),…"
      ]
     },
     "metadata": {},
     "output_type": "display_data"
    },
    {
     "name": "stdout",
     "output_type": "stream",
     "text": [
      "we have 5424038 possible transfer by walking distance"
     ]
    }
   ],
   "source": [
    "print(\"we have \" + str(stop_transfer_joined.count()) + \" possible transfer by walking distance\")"
   ]
  },
  {
   "cell_type": "markdown",
   "metadata": {},
   "source": [
    "# Graph DataFrames creation\n",
    "\n",
    "Now that we have all of our dataframes ready, we need to convert them to the correct data format for our graph. \n",
    "\n",
    "Thus, we need to combine the public transportation dataframe with either the walking distance one, either the stop_transfer_join previously created to get our 2 desired final dataframes representing edges."
   ]
  },
  {
   "cell_type": "code",
   "execution_count": 27,
   "metadata": {},
   "outputs": [
    {
     "data": {
      "application/vnd.jupyter.widget-view+json": {
       "model_id": "",
       "version_major": 2,
       "version_minor": 0
      },
      "text/plain": [
       "FloatProgress(value=0.0, bar_style='info', description='Progress:', layout=Layout(height='25px', width='50%'),…"
      ]
     },
     "metadata": {},
     "output_type": "display_data"
    },
    {
     "name": "stdout",
     "output_type": "stream",
     "text": [
      "+-------+--------------------+----------------+----------------+\n",
      "|     id|           stop_name|             lat|             lon|\n",
      "+-------+--------------------+----------------+----------------+\n",
      "|8557033|Oberhasli, Industrie|47.4592670391304|8.49001368400678|\n",
      "|8573711|   Zürich, Sädlenweg|47.3677549978138|8.48748043490521|\n",
      "|8591828|    Ebmatingen, Dorf|47.3513920447801|8.64100251698261|\n",
      "|8590610|Fällanden, Schütz...| 47.368625031339|8.63247750493513|\n",
      "|8580617|    Bülach, Engelwis|47.5111891951511|8.53713032066541|\n",
      "+-------+--------------------+----------------+----------------+\n",
      "only showing top 5 rows"
     ]
    }
   ],
   "source": [
    "graph_nodes = stop_zurich.select([\"stop_id\", \"stop_name\", \"stop_lat\", \"stop_lon\"])\\\n",
    "                   .withColumnRenamed(\"stop_id\", \"id\")\\\n",
    "                   .withColumnRenamed(\"stop_lat\", \"lat\")\\\n",
    "                   .withColumnRenamed(\"stop_lon\", \"lon\")\n",
    "graph_nodes.show(5)\n"
   ]
  },
  {
   "cell_type": "code",
   "execution_count": 28,
   "metadata": {},
   "outputs": [
    {
     "data": {
      "application/vnd.jupyter.widget-view+json": {
       "model_id": "",
       "version_major": 2,
       "version_minor": 0
      },
      "text/plain": [
       "FloatProgress(value=0.0, bar_style='info', description='Progress:', layout=Layout(height='25px', width='50%'),…"
      ]
     },
     "metadata": {},
     "output_type": "display_data"
    },
    {
     "name": "stdout",
     "output_type": "stream",
     "text": [
      "+--------------------+-------+-------+--------------+------------+--------+------+\n",
      "|             trip_id|    src|    dst|departure_time|arrival_time|duration|  type|\n",
      "+--------------------+-------+-------+--------------+------------+--------+------+\n",
      "|1.TA.26-18-j19-1.1.H|8503064|8503065|      10:41:00|    10:45:00|       4|S-Bahn|\n",
      "|1.TA.26-18-j19-1.1.H|8503065|8503074|      10:45:00|    10:46:00|       1|S-Bahn|\n",
      "|1.TA.26-18-j19-1.1.H|8503074|8503068|      10:46:00|    10:47:00|       1|S-Bahn|\n",
      "|1.TA.26-18-j19-1.1.H|8503068|8503066|      10:47:00|    10:48:00|       1|S-Bahn|\n",
      "|1.TA.26-18-j19-1.1.H|8503066|8503075|      10:48:00|    10:50:00|       2|S-Bahn|\n",
      "+--------------------+-------+-------+--------------+------------+--------+------+\n",
      "only showing top 5 rows"
     ]
    }
   ],
   "source": [
    "graph_journey_edges = journey_df.select([\"trip_id\", \"stop_id_from\", \"stop_id_to\", \"departure_time\", \"arrival_time\", \"duration\", \"route_desc\"])\\\n",
    "                        .withColumnRenamed(\"stop_id_from\", \"src\")\\\n",
    "                        .withColumnRenamed(\"stop_id_to\", \"dst\")\\\n",
    "                        .withColumnRenamed(\"route_desc\", \"type\")\n",
    "\n",
    "graph_journey_edges.show(5)"
   ]
  },
  {
   "cell_type": "code",
   "execution_count": 49,
   "metadata": {},
   "outputs": [
    {
     "data": {
      "application/vnd.jupyter.widget-view+json": {
       "model_id": "",
       "version_major": 2,
       "version_minor": 0
      },
      "text/plain": [
       "FloatProgress(value=0.0, bar_style='info', description='Progress:', layout=Layout(height='25px', width='50%'),…"
      ]
     },
     "metadata": {},
     "output_type": "display_data"
    },
    {
     "name": "stdout",
     "output_type": "stream",
     "text": [
      "+-------+-------+-------+------------------+--------------+------------+--------+\n",
      "|trip_id|    src|    dst|          duration|departure_time|arrival_time|    type|\n",
      "+-------+-------+-------+------------------+--------------+------------+--------+\n",
      "|     -1|8557033|8557033|               2.0|          null|        null|transfer|\n",
      "|     -1|8573711|8573711|               2.0|          null|        null|transfer|\n",
      "|     -1|8573711|8591214| 9.068924210168964|          null|        null|transfer|\n",
      "|     -1|8573711|8591163|11.220965922946945|          null|        null|transfer|\n",
      "|     -1|8591828|8591828|               2.0|          null|        null|transfer|\n",
      "+-------+-------+-------+------------------+--------------+------------+--------+\n",
      "only showing top 5 rows"
     ]
    }
   ],
   "source": [
    "graph_transfer_edges = cross_join.withColumn(\"trip_id\", F.lit(-1))\\\n",
    "                                 .select([\"trip_id\", \"stop_id\", \"stop_id_2\", \"transfer_time\"])\\\n",
    "                                 .withColumnRenamed(\"stop_id\", \"src\")\\\n",
    "                                 .withColumnRenamed(\"stop_id_2\", \"dst\")\\\n",
    "                                 .withColumnRenamed(\"transfer_time\", \"duration\")\\\n",
    "                                 .withColumn(\"departure_time\", F.lit(None).cast(StringType()))\\\n",
    "                                 .withColumn(\"arrival_time\", F.lit(None).cast(StringType()))\\\n",
    "                                 .withColumn(\"type\", F.lit(\"transfer\"))\\\n",
    "                                 \n",
    "\n",
    "graph_transfer_edges.show(5)"
   ]
  },
  {
   "cell_type": "code",
   "execution_count": 50,
   "metadata": {},
   "outputs": [
    {
     "data": {
      "application/vnd.jupyter.widget-view+json": {
       "model_id": "",
       "version_major": 2,
       "version_minor": 0
      },
      "text/plain": [
       "FloatProgress(value=0.0, bar_style='info', description='Progress:', layout=Layout(height='25px', width='50%'),…"
      ]
     },
     "metadata": {},
     "output_type": "display_data"
    },
    {
     "name": "stdout",
     "output_type": "stream",
     "text": [
      "graph_journey_edges has 268778 rows\n",
      "graph_transfer_edges has 16288 rows\n",
      "graph_edges has 285066 rows\n",
      "+--------------------+-------+-------+--------------+------------+--------+------+\n",
      "|             trip_id|    src|    dst|departure_time|arrival_time|duration|  type|\n",
      "+--------------------+-------+-------+--------------+------------+--------+------+\n",
      "|1.TA.26-18-j19-1.1.H|8503064|8503065|      10:41:00|    10:45:00|       4|S-Bahn|\n",
      "|1.TA.26-18-j19-1.1.H|8503065|8503074|      10:45:00|    10:46:00|       1|S-Bahn|\n",
      "|1.TA.26-18-j19-1.1.H|8503074|8503068|      10:46:00|    10:47:00|       1|S-Bahn|\n",
      "|1.TA.26-18-j19-1.1.H|8503068|8503066|      10:47:00|    10:48:00|       1|S-Bahn|\n",
      "|1.TA.26-18-j19-1.1.H|8503066|8503075|      10:48:00|    10:50:00|       2|S-Bahn|\n",
      "+--------------------+-------+-------+--------------+------------+--------+------+\n",
      "only showing top 5 rows"
     ]
    }
   ],
   "source": [
    "print(\"graph_journey_edges has \" + str(graph_journey_edges.count()) + \" rows\")\n",
    "print(\"graph_transfer_edges has \" + str(graph_transfer_edges.count()) + \" rows\")\n",
    "\n",
    "graph_edges_1 = graph_journey_edges.union(graph_transfer_edges)\n",
    "\n",
    "print(\"graph_edges has \" + str(graph_edges_1.count()) + \" rows\")\n",
    "\n",
    "graph_edges_1.show(5)"
   ]
  },
  {
   "cell_type": "code",
   "execution_count": 46,
   "metadata": {},
   "outputs": [
    {
     "data": {
      "application/vnd.jupyter.widget-view+json": {
       "model_id": "",
       "version_major": 2,
       "version_minor": 0
      },
      "text/plain": [
       "FloatProgress(value=0.0, bar_style='info', description='Progress:', layout=Layout(height='25px', width='50%'),…"
      ]
     },
     "metadata": {},
     "output_type": "display_data"
    },
    {
     "name": "stdout",
     "output_type": "stream",
     "text": [
      "+-------+-------+-------+--------------+------------+------------------+--------+\n",
      "|trip_id|    src|    dst|departure_time|arrival_time|          duration|    type|\n",
      "+-------+-------+-------+--------------+------------+------------------+--------+\n",
      "|     -1|8502508|8590270|      13:00:00|    13:11:00|11.482654229404913|transfer|\n",
      "|     -1|8502508|8502508|      13:00:00|    13:02:00|               2.0|transfer|\n",
      "|     -1|8502508|8590268|      13:00:00|    13:06:00|  6.46300812901671|transfer|\n",
      "|     -1|8502508|8590270|      16:44:00|    16:55:00|11.482654229404913|transfer|\n",
      "|     -1|8502508|8502508|      16:44:00|    16:46:00|               2.0|transfer|\n",
      "+-------+-------+-------+--------------+------------+------------------+--------+\n",
      "only showing top 5 rows"
     ]
    }
   ],
   "source": [
    "graph_transfer_joined_edges = stop_transfer_joined.withColumn(\"trip_id\", F.lit(-1))\\\n",
    "                                                  .select([\"trip_id\", \"stop_id\", \"stop_id_2\",\"departure_time\", \"arrival_time\", \"duration\"])\\\n",
    "                                                  .withColumnRenamed(\"stop_id\", \"src\")\\\n",
    "                                                  .withColumnRenamed(\"stop_id_2\", \"dst\")\\\n",
    "                                                  .withColumn(\"type\", F.lit(\"transfer\"))\\\n",
    "\n",
    "graph_transfer_joined_edges.show(5)"
   ]
  },
  {
   "cell_type": "code",
   "execution_count": 48,
   "metadata": {},
   "outputs": [
    {
     "data": {
      "application/vnd.jupyter.widget-view+json": {
       "model_id": "",
       "version_major": 2,
       "version_minor": 0
      },
      "text/plain": [
       "FloatProgress(value=0.0, bar_style='info', description='Progress:', layout=Layout(height='25px', width='50%'),…"
      ]
     },
     "metadata": {},
     "output_type": "display_data"
    },
    {
     "name": "stdout",
     "output_type": "stream",
     "text": [
      "graph_journey_edges has 268778 rows\n",
      "graph_transfer_joined_edges has 5424038 rows\n",
      "graph_edges has 5692816 rows\n",
      "+--------------------+-------+-------+--------------+------------+--------+------+\n",
      "|             trip_id|    src|    dst|departure_time|arrival_time|duration|  type|\n",
      "+--------------------+-------+-------+--------------+------------+--------+------+\n",
      "|1.TA.26-18-j19-1.1.H|8503064|8503065|      10:41:00|    10:45:00|       4|S-Bahn|\n",
      "|1.TA.26-18-j19-1.1.H|8503065|8503074|      10:45:00|    10:46:00|       1|S-Bahn|\n",
      "|1.TA.26-18-j19-1.1.H|8503074|8503068|      10:46:00|    10:47:00|       1|S-Bahn|\n",
      "|1.TA.26-18-j19-1.1.H|8503068|8503066|      10:47:00|    10:48:00|       1|S-Bahn|\n",
      "|1.TA.26-18-j19-1.1.H|8503066|8503075|      10:48:00|    10:50:00|       2|S-Bahn|\n",
      "+--------------------+-------+-------+--------------+------------+--------+------+\n",
      "only showing top 5 rows"
     ]
    }
   ],
   "source": [
    "print(\"graph_journey_edges has \" + str(graph_journey_edges.count()) + \" rows\")\n",
    "print(\"graph_transfer_joined_edges has \" + str(graph_transfer_joined_edges.count()) + \" rows\")\n",
    "\n",
    "graph_edges_2 = graph_journey_edges.union(graph_transfer_joined_edges)\n",
    "\n",
    "print(\"graph_edges has \" + str(graph_edges_2.count()) + \" rows\")\n",
    "\n",
    "graph_edges_2.show(5)"
   ]
  },
  {
   "cell_type": "markdown",
   "metadata": {},
   "source": [
    "## Exporting DataFrames to HDFS\n",
    "\n",
    "As we want to process our graph with networkx, we need to modelize it locally in a python kernel.\n",
    "\n",
    "Thus, we send our graph DataFrames to the HDFS.\n",
    "\n",
    "The code is commented as the edges were already send"
   ]
  },
  {
   "cell_type": "code",
   "execution_count": 51,
   "metadata": {},
   "outputs": [
    {
     "data": {
      "application/vnd.jupyter.widget-view+json": {
       "model_id": "",
       "version_major": 2,
       "version_minor": 0
      },
      "text/plain": [
       "FloatProgress(value=0.0, bar_style='info', description='Progress:', layout=Layout(height='25px', width='50%'),…"
      ]
     },
     "metadata": {},
     "output_type": "display_data"
    }
   ],
   "source": [
    "graph_nodes.write.parquet('/user/vyuan/final_6/graph_nodes.parquet')"
   ]
  },
  {
   "cell_type": "code",
   "execution_count": 52,
   "metadata": {},
   "outputs": [
    {
     "data": {
      "application/vnd.jupyter.widget-view+json": {
       "model_id": "",
       "version_major": 2,
       "version_minor": 0
      },
      "text/plain": [
       "FloatProgress(value=0.0, bar_style='info', description='Progress:', layout=Layout(height='25px', width='50%'),…"
      ]
     },
     "metadata": {},
     "output_type": "display_data"
    }
   ],
   "source": [
    "graph_edges_1.write.parquet('/user/vyuan/final_6/graph_edges_1.parquet')"
   ]
  },
  {
   "cell_type": "code",
   "execution_count": 53,
   "metadata": {},
   "outputs": [
    {
     "data": {
      "application/vnd.jupyter.widget-view+json": {
       "model_id": "",
       "version_major": 2,
       "version_minor": 0
      },
      "text/plain": [
       "FloatProgress(value=0.0, bar_style='info', description='Progress:', layout=Layout(height='25px', width='50%'),…"
      ]
     },
     "metadata": {},
     "output_type": "display_data"
    }
   ],
   "source": [
    "graph_edges_2.write.parquet('/user/vyuan/final_6/graph_edges_2.parquet')"
   ]
  }
 ],
 "metadata": {
  "kernelspec": {
   "display_name": "PySpark",
   "language": "python",
   "name": "pysparkkernel"
  },
  "language_info": {
   "codemirror_mode": {
    "name": "python",
    "version": 3
   },
   "file_extension": ".py",
   "mimetype": "text/x-python",
   "name": "pyspark",
   "pygments_lexer": "python3"
  }
 },
 "nbformat": 4,
 "nbformat_minor": 4
}
